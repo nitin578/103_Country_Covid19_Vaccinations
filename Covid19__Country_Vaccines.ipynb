{
  "nbformat": 4,
  "nbformat_minor": 0,
  "metadata": {
    "colab": {
      "name": "Covid19 _Country_Vaccines.ipynb",
      "provenance": [],
      "collapsed_sections": [],
      "authorship_tag": "ABX9TyPRIL9xNrAYhI8P7KTriJ8C",
      "include_colab_link": true
    },
    "kernelspec": {
      "name": "python3",
      "display_name": "Python 3"
    },
    "language_info": {
      "name": "python"
    }
  },
  "cells": [
    {
      "cell_type": "markdown",
      "metadata": {
        "id": "view-in-github",
        "colab_type": "text"
      },
      "source": [
        "<a href=\"https://colab.research.google.com/github/nitin578/103_Country_Covid19_Vaccinations/blob/main/Covid19__Country_Vaccines.ipynb\" target=\"_parent\"><img src=\"https://colab.research.google.com/assets/colab-badge.svg\" alt=\"Open In Colab\"/></a>"
      ]
    },
    {
      "cell_type": "code",
      "metadata": {
        "id": "CRBXDVGJ2dkz"
      },
      "source": [
        "from google.colab import drive"
      ],
      "execution_count": 1,
      "outputs": []
    },
    {
      "cell_type": "code",
      "metadata": {
        "colab": {
          "base_uri": "https://localhost:8080/"
        },
        "id": "Z9iYLU502k-r",
        "outputId": "fc400481-c9a5-4330-cca5-ebaff8def7a4"
      },
      "source": [
        "drive.mount(\"/content/gdrive\")"
      ],
      "execution_count": 2,
      "outputs": [
        {
          "output_type": "stream",
          "name": "stdout",
          "text": [
            "Mounted at /content/gdrive\n"
          ]
        }
      ]
    },
    {
      "cell_type": "code",
      "metadata": {
        "id": "gATrJwcE0K7m"
      },
      "source": [
        "import pandas as pd\n",
        "import numpy as np\n",
        "import matplotlib.pyplot as plt\n",
        "%matplotlib inline"
      ],
      "execution_count": 3,
      "outputs": []
    },
    {
      "cell_type": "code",
      "metadata": {
        "id": "GWXeFTmV2VZN"
      },
      "source": [
        "india_df = pd.read_csv(\"/content/gdrive/MyDrive/Colab Notebooks/data/India.csv\")"
      ],
      "execution_count": 4,
      "outputs": []
    },
    {
      "cell_type": "code",
      "metadata": {
        "colab": {
          "base_uri": "https://localhost:8080/",
          "height": 337
        },
        "id": "6viAsC0s29pa",
        "outputId": "fb9e372a-a1c7-4c7a-8015-ad557b60ef0a"
      },
      "source": [
        "india_df.head()"
      ],
      "execution_count": 5,
      "outputs": [
        {
          "output_type": "execute_result",
          "data": {
            "text/html": [
              "\n",
              "  <div id=\"df-92442a66-776b-40ae-b43b-3a3b8e5bccda\">\n",
              "    <div class=\"colab-df-container\">\n",
              "      <div>\n",
              "<style scoped>\n",
              "    .dataframe tbody tr th:only-of-type {\n",
              "        vertical-align: middle;\n",
              "    }\n",
              "\n",
              "    .dataframe tbody tr th {\n",
              "        vertical-align: top;\n",
              "    }\n",
              "\n",
              "    .dataframe thead th {\n",
              "        text-align: right;\n",
              "    }\n",
              "</style>\n",
              "<table border=\"1\" class=\"dataframe\">\n",
              "  <thead>\n",
              "    <tr style=\"text-align: right;\">\n",
              "      <th></th>\n",
              "      <th>location</th>\n",
              "      <th>date</th>\n",
              "      <th>vaccine</th>\n",
              "      <th>total_vaccinations</th>\n",
              "      <th>people_vaccinated</th>\n",
              "      <th>people_fully_vaccinated</th>\n",
              "      <th>source_url</th>\n",
              "      <th>total_boosters</th>\n",
              "    </tr>\n",
              "  </thead>\n",
              "  <tbody>\n",
              "    <tr>\n",
              "      <th>0</th>\n",
              "      <td>India</td>\n",
              "      <td>2021-01-15</td>\n",
              "      <td>Covaxin, Oxford/AstraZeneca</td>\n",
              "      <td>0</td>\n",
              "      <td>0</td>\n",
              "      <td>0</td>\n",
              "      <td>https://twitter.com/MoHFW_INDIA/status/1350459...</td>\n",
              "      <td>NaN</td>\n",
              "    </tr>\n",
              "    <tr>\n",
              "      <th>1</th>\n",
              "      <td>India</td>\n",
              "      <td>2021-01-16</td>\n",
              "      <td>Covaxin, Oxford/AstraZeneca</td>\n",
              "      <td>191181</td>\n",
              "      <td>191181</td>\n",
              "      <td>0</td>\n",
              "      <td>https://twitter.com/MoHFW_INDIA/status/1350459...</td>\n",
              "      <td>NaN</td>\n",
              "    </tr>\n",
              "    <tr>\n",
              "      <th>2</th>\n",
              "      <td>India</td>\n",
              "      <td>2021-01-17</td>\n",
              "      <td>Covaxin, Oxford/AstraZeneca</td>\n",
              "      <td>224301</td>\n",
              "      <td>224301</td>\n",
              "      <td>0</td>\n",
              "      <td>https://twitter.com/MoHFW_INDIA/status/1350815...</td>\n",
              "      <td>NaN</td>\n",
              "    </tr>\n",
              "    <tr>\n",
              "      <th>3</th>\n",
              "      <td>India</td>\n",
              "      <td>2021-01-18</td>\n",
              "      <td>Covaxin, Oxford/AstraZeneca</td>\n",
              "      <td>454049</td>\n",
              "      <td>454049</td>\n",
              "      <td>0</td>\n",
              "      <td>https://www.mohfw.gov.in/</td>\n",
              "      <td>NaN</td>\n",
              "    </tr>\n",
              "    <tr>\n",
              "      <th>4</th>\n",
              "      <td>India</td>\n",
              "      <td>2021-01-19</td>\n",
              "      <td>Covaxin, Oxford/AstraZeneca</td>\n",
              "      <td>674835</td>\n",
              "      <td>674835</td>\n",
              "      <td>0</td>\n",
              "      <td>https://www.mohfw.gov.in/</td>\n",
              "      <td>NaN</td>\n",
              "    </tr>\n",
              "  </tbody>\n",
              "</table>\n",
              "</div>\n",
              "      <button class=\"colab-df-convert\" onclick=\"convertToInteractive('df-92442a66-776b-40ae-b43b-3a3b8e5bccda')\"\n",
              "              title=\"Convert this dataframe to an interactive table.\"\n",
              "              style=\"display:none;\">\n",
              "        \n",
              "  <svg xmlns=\"http://www.w3.org/2000/svg\" height=\"24px\"viewBox=\"0 0 24 24\"\n",
              "       width=\"24px\">\n",
              "    <path d=\"M0 0h24v24H0V0z\" fill=\"none\"/>\n",
              "    <path d=\"M18.56 5.44l.94 2.06.94-2.06 2.06-.94-2.06-.94-.94-2.06-.94 2.06-2.06.94zm-11 1L8.5 8.5l.94-2.06 2.06-.94-2.06-.94L8.5 2.5l-.94 2.06-2.06.94zm10 10l.94 2.06.94-2.06 2.06-.94-2.06-.94-.94-2.06-.94 2.06-2.06.94z\"/><path d=\"M17.41 7.96l-1.37-1.37c-.4-.4-.92-.59-1.43-.59-.52 0-1.04.2-1.43.59L10.3 9.45l-7.72 7.72c-.78.78-.78 2.05 0 2.83L4 21.41c.39.39.9.59 1.41.59.51 0 1.02-.2 1.41-.59l7.78-7.78 2.81-2.81c.8-.78.8-2.07 0-2.86zM5.41 20L4 18.59l7.72-7.72 1.47 1.35L5.41 20z\"/>\n",
              "  </svg>\n",
              "      </button>\n",
              "      \n",
              "  <style>\n",
              "    .colab-df-container {\n",
              "      display:flex;\n",
              "      flex-wrap:wrap;\n",
              "      gap: 12px;\n",
              "    }\n",
              "\n",
              "    .colab-df-convert {\n",
              "      background-color: #E8F0FE;\n",
              "      border: none;\n",
              "      border-radius: 50%;\n",
              "      cursor: pointer;\n",
              "      display: none;\n",
              "      fill: #1967D2;\n",
              "      height: 32px;\n",
              "      padding: 0 0 0 0;\n",
              "      width: 32px;\n",
              "    }\n",
              "\n",
              "    .colab-df-convert:hover {\n",
              "      background-color: #E2EBFA;\n",
              "      box-shadow: 0px 1px 2px rgba(60, 64, 67, 0.3), 0px 1px 3px 1px rgba(60, 64, 67, 0.15);\n",
              "      fill: #174EA6;\n",
              "    }\n",
              "\n",
              "    [theme=dark] .colab-df-convert {\n",
              "      background-color: #3B4455;\n",
              "      fill: #D2E3FC;\n",
              "    }\n",
              "\n",
              "    [theme=dark] .colab-df-convert:hover {\n",
              "      background-color: #434B5C;\n",
              "      box-shadow: 0px 1px 3px 1px rgba(0, 0, 0, 0.15);\n",
              "      filter: drop-shadow(0px 1px 2px rgba(0, 0, 0, 0.3));\n",
              "      fill: #FFFFFF;\n",
              "    }\n",
              "  </style>\n",
              "\n",
              "      <script>\n",
              "        const buttonEl =\n",
              "          document.querySelector('#df-92442a66-776b-40ae-b43b-3a3b8e5bccda button.colab-df-convert');\n",
              "        buttonEl.style.display =\n",
              "          google.colab.kernel.accessAllowed ? 'block' : 'none';\n",
              "\n",
              "        async function convertToInteractive(key) {\n",
              "          const element = document.querySelector('#df-92442a66-776b-40ae-b43b-3a3b8e5bccda');\n",
              "          const dataTable =\n",
              "            await google.colab.kernel.invokeFunction('convertToInteractive',\n",
              "                                                     [key], {});\n",
              "          if (!dataTable) return;\n",
              "\n",
              "          const docLinkHtml = 'Like what you see? Visit the ' +\n",
              "            '<a target=\"_blank\" href=https://colab.research.google.com/notebooks/data_table.ipynb>data table notebook</a>'\n",
              "            + ' to learn more about interactive tables.';\n",
              "          element.innerHTML = '';\n",
              "          dataTable['output_type'] = 'display_data';\n",
              "          await google.colab.output.renderOutput(dataTable, element);\n",
              "          const docLink = document.createElement('div');\n",
              "          docLink.innerHTML = docLinkHtml;\n",
              "          element.appendChild(docLink);\n",
              "        }\n",
              "      </script>\n",
              "    </div>\n",
              "  </div>\n",
              "  "
            ],
            "text/plain": [
              "  location  ... total_boosters\n",
              "0    India  ...            NaN\n",
              "1    India  ...            NaN\n",
              "2    India  ...            NaN\n",
              "3    India  ...            NaN\n",
              "4    India  ...            NaN\n",
              "\n",
              "[5 rows x 8 columns]"
            ]
          },
          "metadata": {},
          "execution_count": 5
        }
      ]
    },
    {
      "cell_type": "code",
      "source": [
        "india_df.columns"
      ],
      "metadata": {
        "colab": {
          "base_uri": "https://localhost:8080/"
        },
        "id": "pW-QHW_6HOaD",
        "outputId": "edbe8636-321c-4b6e-c0fb-927f2d522d01"
      },
      "execution_count": 6,
      "outputs": [
        {
          "output_type": "execute_result",
          "data": {
            "text/plain": [
              "Index(['location', 'date', 'vaccine', 'total_vaccinations',\n",
              "       'people_vaccinated', 'people_fully_vaccinated', 'source_url',\n",
              "       'total_boosters'],\n",
              "      dtype='object')"
            ]
          },
          "metadata": {},
          "execution_count": 6
        }
      ]
    },
    {
      "cell_type": "markdown",
      "metadata": {
        "id": "UXGEHzwi3LNi"
      },
      "source": [
        "#DATA CLEANING"
      ]
    },
    {
      "cell_type": "code",
      "metadata": {
        "id": "i-R-IsDV3Gep"
      },
      "source": [
        "# removing unwanted columns\n",
        "columns_to_remove = ['source_url']\n",
        "india_df.drop(labels=columns_to_remove, axis=1, inplace=True)"
      ],
      "execution_count": 7,
      "outputs": []
    },
    {
      "cell_type": "code",
      "metadata": {
        "id": "ulsuP3bd3dJJ"
      },
      "source": [
        "#Replacing the NaN values to 0\n",
        "india_df['total_boosters'].fillna(\"0\", inplace = True)"
      ],
      "execution_count": 8,
      "outputs": []
    },
    {
      "cell_type": "code",
      "metadata": {
        "colab": {
          "base_uri": "https://localhost:8080/",
          "height": 206
        },
        "id": "CxJvDWec3irZ",
        "outputId": "72b41f78-4361-4e8b-d890-3934e39232d2"
      },
      "source": [
        "india_df.head()"
      ],
      "execution_count": 9,
      "outputs": [
        {
          "output_type": "execute_result",
          "data": {
            "text/html": [
              "\n",
              "  <div id=\"df-414e6d45-f5ed-4c3b-9659-b665a5bb130b\">\n",
              "    <div class=\"colab-df-container\">\n",
              "      <div>\n",
              "<style scoped>\n",
              "    .dataframe tbody tr th:only-of-type {\n",
              "        vertical-align: middle;\n",
              "    }\n",
              "\n",
              "    .dataframe tbody tr th {\n",
              "        vertical-align: top;\n",
              "    }\n",
              "\n",
              "    .dataframe thead th {\n",
              "        text-align: right;\n",
              "    }\n",
              "</style>\n",
              "<table border=\"1\" class=\"dataframe\">\n",
              "  <thead>\n",
              "    <tr style=\"text-align: right;\">\n",
              "      <th></th>\n",
              "      <th>location</th>\n",
              "      <th>date</th>\n",
              "      <th>vaccine</th>\n",
              "      <th>total_vaccinations</th>\n",
              "      <th>people_vaccinated</th>\n",
              "      <th>people_fully_vaccinated</th>\n",
              "      <th>total_boosters</th>\n",
              "    </tr>\n",
              "  </thead>\n",
              "  <tbody>\n",
              "    <tr>\n",
              "      <th>0</th>\n",
              "      <td>India</td>\n",
              "      <td>2021-01-15</td>\n",
              "      <td>Covaxin, Oxford/AstraZeneca</td>\n",
              "      <td>0</td>\n",
              "      <td>0</td>\n",
              "      <td>0</td>\n",
              "      <td>0</td>\n",
              "    </tr>\n",
              "    <tr>\n",
              "      <th>1</th>\n",
              "      <td>India</td>\n",
              "      <td>2021-01-16</td>\n",
              "      <td>Covaxin, Oxford/AstraZeneca</td>\n",
              "      <td>191181</td>\n",
              "      <td>191181</td>\n",
              "      <td>0</td>\n",
              "      <td>0</td>\n",
              "    </tr>\n",
              "    <tr>\n",
              "      <th>2</th>\n",
              "      <td>India</td>\n",
              "      <td>2021-01-17</td>\n",
              "      <td>Covaxin, Oxford/AstraZeneca</td>\n",
              "      <td>224301</td>\n",
              "      <td>224301</td>\n",
              "      <td>0</td>\n",
              "      <td>0</td>\n",
              "    </tr>\n",
              "    <tr>\n",
              "      <th>3</th>\n",
              "      <td>India</td>\n",
              "      <td>2021-01-18</td>\n",
              "      <td>Covaxin, Oxford/AstraZeneca</td>\n",
              "      <td>454049</td>\n",
              "      <td>454049</td>\n",
              "      <td>0</td>\n",
              "      <td>0</td>\n",
              "    </tr>\n",
              "    <tr>\n",
              "      <th>4</th>\n",
              "      <td>India</td>\n",
              "      <td>2021-01-19</td>\n",
              "      <td>Covaxin, Oxford/AstraZeneca</td>\n",
              "      <td>674835</td>\n",
              "      <td>674835</td>\n",
              "      <td>0</td>\n",
              "      <td>0</td>\n",
              "    </tr>\n",
              "  </tbody>\n",
              "</table>\n",
              "</div>\n",
              "      <button class=\"colab-df-convert\" onclick=\"convertToInteractive('df-414e6d45-f5ed-4c3b-9659-b665a5bb130b')\"\n",
              "              title=\"Convert this dataframe to an interactive table.\"\n",
              "              style=\"display:none;\">\n",
              "        \n",
              "  <svg xmlns=\"http://www.w3.org/2000/svg\" height=\"24px\"viewBox=\"0 0 24 24\"\n",
              "       width=\"24px\">\n",
              "    <path d=\"M0 0h24v24H0V0z\" fill=\"none\"/>\n",
              "    <path d=\"M18.56 5.44l.94 2.06.94-2.06 2.06-.94-2.06-.94-.94-2.06-.94 2.06-2.06.94zm-11 1L8.5 8.5l.94-2.06 2.06-.94-2.06-.94L8.5 2.5l-.94 2.06-2.06.94zm10 10l.94 2.06.94-2.06 2.06-.94-2.06-.94-.94-2.06-.94 2.06-2.06.94z\"/><path d=\"M17.41 7.96l-1.37-1.37c-.4-.4-.92-.59-1.43-.59-.52 0-1.04.2-1.43.59L10.3 9.45l-7.72 7.72c-.78.78-.78 2.05 0 2.83L4 21.41c.39.39.9.59 1.41.59.51 0 1.02-.2 1.41-.59l7.78-7.78 2.81-2.81c.8-.78.8-2.07 0-2.86zM5.41 20L4 18.59l7.72-7.72 1.47 1.35L5.41 20z\"/>\n",
              "  </svg>\n",
              "      </button>\n",
              "      \n",
              "  <style>\n",
              "    .colab-df-container {\n",
              "      display:flex;\n",
              "      flex-wrap:wrap;\n",
              "      gap: 12px;\n",
              "    }\n",
              "\n",
              "    .colab-df-convert {\n",
              "      background-color: #E8F0FE;\n",
              "      border: none;\n",
              "      border-radius: 50%;\n",
              "      cursor: pointer;\n",
              "      display: none;\n",
              "      fill: #1967D2;\n",
              "      height: 32px;\n",
              "      padding: 0 0 0 0;\n",
              "      width: 32px;\n",
              "    }\n",
              "\n",
              "    .colab-df-convert:hover {\n",
              "      background-color: #E2EBFA;\n",
              "      box-shadow: 0px 1px 2px rgba(60, 64, 67, 0.3), 0px 1px 3px 1px rgba(60, 64, 67, 0.15);\n",
              "      fill: #174EA6;\n",
              "    }\n",
              "\n",
              "    [theme=dark] .colab-df-convert {\n",
              "      background-color: #3B4455;\n",
              "      fill: #D2E3FC;\n",
              "    }\n",
              "\n",
              "    [theme=dark] .colab-df-convert:hover {\n",
              "      background-color: #434B5C;\n",
              "      box-shadow: 0px 1px 3px 1px rgba(0, 0, 0, 0.15);\n",
              "      filter: drop-shadow(0px 1px 2px rgba(0, 0, 0, 0.3));\n",
              "      fill: #FFFFFF;\n",
              "    }\n",
              "  </style>\n",
              "\n",
              "      <script>\n",
              "        const buttonEl =\n",
              "          document.querySelector('#df-414e6d45-f5ed-4c3b-9659-b665a5bb130b button.colab-df-convert');\n",
              "        buttonEl.style.display =\n",
              "          google.colab.kernel.accessAllowed ? 'block' : 'none';\n",
              "\n",
              "        async function convertToInteractive(key) {\n",
              "          const element = document.querySelector('#df-414e6d45-f5ed-4c3b-9659-b665a5bb130b');\n",
              "          const dataTable =\n",
              "            await google.colab.kernel.invokeFunction('convertToInteractive',\n",
              "                                                     [key], {});\n",
              "          if (!dataTable) return;\n",
              "\n",
              "          const docLinkHtml = 'Like what you see? Visit the ' +\n",
              "            '<a target=\"_blank\" href=https://colab.research.google.com/notebooks/data_table.ipynb>data table notebook</a>'\n",
              "            + ' to learn more about interactive tables.';\n",
              "          element.innerHTML = '';\n",
              "          dataTable['output_type'] = 'display_data';\n",
              "          await google.colab.output.renderOutput(dataTable, element);\n",
              "          const docLink = document.createElement('div');\n",
              "          docLink.innerHTML = docLinkHtml;\n",
              "          element.appendChild(docLink);\n",
              "        }\n",
              "      </script>\n",
              "    </div>\n",
              "  </div>\n",
              "  "
            ],
            "text/plain": [
              "  location        date  ... people_fully_vaccinated  total_boosters\n",
              "0    India  2021-01-15  ...                       0               0\n",
              "1    India  2021-01-16  ...                       0               0\n",
              "2    India  2021-01-17  ...                       0               0\n",
              "3    India  2021-01-18  ...                       0               0\n",
              "4    India  2021-01-19  ...                       0               0\n",
              "\n",
              "[5 rows x 7 columns]"
            ]
          },
          "metadata": {},
          "execution_count": 9
        }
      ]
    },
    {
      "cell_type": "code",
      "metadata": {
        "colab": {
          "base_uri": "https://localhost:8080/"
        },
        "id": "lDwq-5Kl3Ict",
        "outputId": "b814854b-fea1-446b-ac5d-e908c64c8df7"
      },
      "source": [
        "india_df.columns"
      ],
      "execution_count": 10,
      "outputs": [
        {
          "output_type": "execute_result",
          "data": {
            "text/plain": [
              "Index(['location', 'date', 'vaccine', 'total_vaccinations',\n",
              "       'people_vaccinated', 'people_fully_vaccinated', 'total_boosters'],\n",
              "      dtype='object')"
            ]
          },
          "metadata": {},
          "execution_count": 10
        }
      ]
    },
    {
      "cell_type": "code",
      "metadata": {
        "colab": {
          "base_uri": "https://localhost:8080/"
        },
        "id": "CFUe-PfW4B_1",
        "outputId": "e2e90e36-00e7-4f1a-a751-509924a5e43d"
      },
      "source": [
        "# check the unique values in vaccine column\n",
        "india_df.vaccine.unique()"
      ],
      "execution_count": 11,
      "outputs": [
        {
          "output_type": "execute_result",
          "data": {
            "text/plain": [
              "array(['Covaxin, Oxford/AstraZeneca',\n",
              "       'Covaxin, Oxford/AstraZeneca, Sputnik V'], dtype=object)"
            ]
          },
          "metadata": {},
          "execution_count": 11
        }
      ]
    },
    {
      "cell_type": "code",
      "metadata": {
        "id": "CNmKnnal4DaV"
      },
      "source": [
        "import seaborn as sns"
      ],
      "execution_count": 12,
      "outputs": []
    },
    {
      "cell_type": "code",
      "metadata": {
        "colab": {
          "base_uri": "https://localhost:8080/",
          "height": 367
        },
        "id": "kC1krHCG4Hnc",
        "outputId": "f5cedafa-eb07-4ade-c646-bebdbb276a86"
      },
      "source": [
        " sns.countplot(india_df['vaccine'])\n",
        "plt.title(\"Total number of vaccine doses administered in India\")"
      ],
      "execution_count": 14,
      "outputs": [
        {
          "output_type": "stream",
          "name": "stderr",
          "text": [
            "/usr/local/lib/python3.7/dist-packages/seaborn/_decorators.py:43: FutureWarning: Pass the following variable as a keyword arg: x. From version 0.12, the only valid positional argument will be `data`, and passing other arguments without an explicit keyword will result in an error or misinterpretation.\n",
            "  FutureWarning\n"
          ]
        },
        {
          "output_type": "execute_result",
          "data": {
            "text/plain": [
              "Text(0.5, 1.0, 'Total number of vaccine doses administered in India')"
            ]
          },
          "metadata": {},
          "execution_count": 14
        },
        {
          "output_type": "display_data",
          "data": {
            "image/png": "[encoded data removed]",
            "text/plain": [
              "<Figure size 432x288 with 1 Axes>"
            ]
          },
          "metadata": {
            "needs_background": "light"
          }
        }
      ]
    },
    {
      "cell_type": "code",
      "metadata": {
        "id": "bbgjocqmDEt_"
      },
      "source": [
        "# describe the data\n",
        "# Numerical values\n",
        "numerical_features = [feature for feature in india_df.columns if india_df[feature].dtype != 'O']\n",
        "print('Number of numerical variables: ', len(numerical_features))"
      ],
      "execution_count": null,
      "outputs": []
    },
    {
      "cell_type": "code",
      "metadata": {
        "id": "XC7UXafIH1yp"
      },
      "source": [
        "india_df[numerical_features].head()"
      ],
      "execution_count": null,
      "outputs": []
    },
    {
      "cell_type": "code",
      "metadata": {
        "id": "c4LElS7pH5f4"
      },
      "source": [
        "india_df[numerical_features].hist()"
      ],
      "execution_count": null,
      "outputs": []
    },
    {
      "cell_type": "code",
      "metadata": {
        "id": "Es7SdKwSI_5M"
      },
      "source": [
        "india_df[numerical_features].hist(column = 'total_vaccinations')\n",
        "plt.xlabel(\"Count in Billion\")\n",
        "plt.title(\"Total Vaccinations provided in India is 1,077,107,323 Billion \")\n",
        "column = india_df[\"total_vaccinations\"]\n",
        "max_value = column.max()\n",
        "number_with_commas = \"{:,}\".format(1077107323 )\n",
        "print(number_with_commas)\n",
        "print(max_value)\n"
      ],
      "execution_count": null,
      "outputs": []
    },
    {
      "cell_type": "code",
      "metadata": {
        "id": "h5QsO-_gJY8_"
      },
      "source": [
        "india_df[numerical_features].hist(column = 'people_fully_vaccinated')\n",
        "plt.xlabel(\"Count\")\n",
        "plt.title(\"People Full Vaccinated in India is 337,749,522 Billion \")\n",
        "column = india_df[\"people_fully_vaccinated\"]\n",
        "max_value = column.max()\n",
        "number_with_commas = \"{:,}\".format(337749522 )\n",
        "print(number_with_commas)\n",
        "print(max_value)"
      ],
      "execution_count": null,
      "outputs": []
    },
    {
      "cell_type": "code",
      "metadata": {
        "id": "nfaBJ2wUWUmq"
      },
      "source": [
        "import numpy as np\n",
        "import pandas as pd\n",
        "from os import path\n",
        "from PIL import Image\n",
        "from wordcloud import WordCloud, STOPWORDS, ImageColorGenerator\n",
        "import matplotlib.pyplot as plt\n",
        "%matplotlib inline\n"
      ],
      "execution_count": null,
      "outputs": []
    },
    {
      "cell_type": "code",
      "metadata": {
        "id": "6vlCKI_qWPWG"
      },
      "source": [
        "wordCloud = WordCloud(\n",
        "    background_color='white',\n",
        "    max_font_size = 40).generate(' '.join(india_df.vaccine))\n",
        "plt.figure(figsize=(15,7))\n",
        "plt.axis('off')\n",
        "plt.imshow(wordCloud)\n",
        "plt.show()\n"
      ],
      "execution_count": null,
      "outputs": []
    },
    {
      "cell_type": "code",
      "source": [
        "india_df = india_df[['people_fully_vaccinated','total_vaccinations','people_vaccinated']]\n",
        "\n",
        "sns.pairplot(india_df, kind=\"hist\")\n",
        "plt.show()"
      ],
      "metadata": {
        "id": "ULOtLP8JMP9h"
      },
      "execution_count": null,
      "outputs": []
    },
    {
      "cell_type": "code",
      "metadata": {
        "id": "YZc9ngM7bR9Q"
      },
      "source": [
        "sns.heatmap(india_df[numerical_features].corr(), vmin=1, vmax=1, annot=True)"
      ],
      "execution_count": null,
      "outputs": []
    },
    {
      "cell_type": "code",
      "metadata": {
        "id": "JX3zajX-K0Jl"
      },
      "source": [
        "# describe the data\n",
        "# categorical values\n",
        "categorical_features = [feature for feature in india_df.columns if india_df[feature].dtype == 'O']\n",
        "print('Number of numerical variables: ', len(categorical_features))"
      ],
      "execution_count": null,
      "outputs": []
    },
    {
      "cell_type": "code",
      "metadata": {
        "id": "4EtqyZkWK4mS"
      },
      "source": [
        "india_df[categorical_features].head()"
      ],
      "execution_count": null,
      "outputs": []
    },
    {
      "cell_type": "code",
      "metadata": {
        "id": "3s9iVYJkR96b"
      },
      "source": [
        "# converting the column date from string into datetime object\n",
        "india_df.dtypes"
      ],
      "execution_count": null,
      "outputs": []
    },
    {
      "cell_type": "code",
      "metadata": {
        "id": "37Rra54RR_kh"
      },
      "source": [
        "from datetime import datetime"
      ],
      "execution_count": null,
      "outputs": []
    },
    {
      "cell_type": "code",
      "metadata": {
        "id": "liWtvcs6SDAt"
      },
      "source": [
        "india_df['date'] = india_df['date'].apply(lambda x: datetime.strptime(x, '%Y-%m-%d'))"
      ],
      "execution_count": null,
      "outputs": []
    },
    {
      "cell_type": "code",
      "metadata": {
        "id": "ytAG69JlSGyJ"
      },
      "source": [
        "india_df.dtypes"
      ],
      "execution_count": null,
      "outputs": []
    },
    {
      "cell_type": "code",
      "metadata": {
        "id": "AYu0FHhcSIGR"
      },
      "source": [
        "india_df[numerical_features].describe()"
      ],
      "execution_count": null,
      "outputs": []
    },
    {
      "cell_type": "code",
      "metadata": {
        "id": "IUVfUnPFSLYj"
      },
      "source": [
        "india_df[categorical_features].describe()"
      ],
      "execution_count": null,
      "outputs": []
    },
    {
      "cell_type": "markdown",
      "metadata": {
        "id": "BnbyVJsHT-i7"
      },
      "source": [
        "#Missing values"
      ]
    },
    {
      "cell_type": "code",
      "metadata": {
        "id": "4qhIQ7uKUBbJ"
      },
      "source": [
        "india_df.isnull().count()"
      ],
      "execution_count": null,
      "outputs": []
    },
    {
      "cell_type": "code",
      "metadata": {
        "id": "jBjwnlN4UFq6"
      },
      "source": [
        "india_df.isnull().values.any()"
      ],
      "execution_count": null,
      "outputs": []
    },
    {
      "cell_type": "code",
      "metadata": {
        "id": "KvQIiYLxUJU9"
      },
      "source": [
        "display(india_df.dtypes.value_counts())"
      ],
      "execution_count": null,
      "outputs": []
    },
    {
      "cell_type": "markdown",
      "metadata": {
        "id": "YO5nCmlVUdC7"
      },
      "source": [
        "#Ukraine Dataset"
      ]
    },
    {
      "cell_type": "code",
      "metadata": {
        "id": "GxbrrfzwUsjK"
      },
      "source": [
        "ukraine_df = pd.read_csv(\"/content/gdrive/MyDrive/Colab Notebooks/data/Ukraine.csv\")"
      ],
      "execution_count": null,
      "outputs": []
    },
    {
      "cell_type": "code",
      "metadata": {
        "id": "Vtu2eN__U6RT"
      },
      "source": [
        "ukraine_df.head()"
      ],
      "execution_count": null,
      "outputs": []
    },
    {
      "cell_type": "code",
      "metadata": {
        "id": "-PPOp_xRVCj0"
      },
      "source": [
        "#DataCleaning\n",
        "#Replacing the NaN values to 0\n",
        "ukraine_df[\"total_boosters\"].fillna(\"0\", inplace = True)"
      ],
      "execution_count": null,
      "outputs": []
    },
    {
      "cell_type": "code",
      "metadata": {
        "id": "EWC785vuXx-W"
      },
      "source": [
        "#unique vaues in vaccine columns\n",
        "ukraine_df.vaccine.unique()"
      ],
      "execution_count": null,
      "outputs": []
    },
    {
      "cell_type": "code",
      "metadata": {
        "id": "hiTt3FeHX2Oj"
      },
      "source": [
        "wordCloud = WordCloud(\n",
        "    background_color='black',\n",
        "    max_font_size = 40).generate(' '.join(ukraine_df.vaccine))\n",
        "plt.figure(figsize=(15,7))\n",
        "plt.axis('off')\n",
        "plt.imshow(wordCloud)\n",
        "plt.show()"
      ],
      "execution_count": null,
      "outputs": []
    },
    {
      "cell_type": "code",
      "metadata": {
        "id": "wv02ciBoU9Mu"
      },
      "source": [
        "ukraine_df.shape"
      ],
      "execution_count": null,
      "outputs": []
    },
    {
      "cell_type": "code",
      "metadata": {
        "id": "n96V6BjdU_wa"
      },
      "source": [
        "ukraine_df.dtypes"
      ],
      "execution_count": null,
      "outputs": []
    },
    {
      "cell_type": "code",
      "metadata": {
        "id": "ZuP8N_sXXQBl"
      },
      "source": [
        "ukraine_df.columns"
      ],
      "execution_count": null,
      "outputs": []
    },
    {
      "cell_type": "code",
      "metadata": {
        "id": "ZoWTnAt0YK__"
      },
      "source": [
        "sns.countplot(ukraine_df['vaccine'])\n",
        "column = ukraine_df[\"vaccine\"]\n",
        "max_value = column.max()\n",
        "print(max_value)"
      ],
      "execution_count": null,
      "outputs": []
    },
    {
      "cell_type": "code",
      "metadata": {
        "id": "NqBHJRmWYnWG"
      },
      "source": [
        "# Numerical features\n",
        "numerical_features = [feature for feature in ukraine_df.columns if ukraine_df[feature].dtype != 'O']\n",
        "print('Numer of numerical variable: ', len(numerical_features))"
      ],
      "execution_count": null,
      "outputs": []
    },
    {
      "cell_type": "code",
      "metadata": {
        "id": "OpJ6NeQYYqbo"
      },
      "source": [
        "ukraine_df[numerical_features].head()"
      ],
      "execution_count": null,
      "outputs": []
    },
    {
      "cell_type": "code",
      "metadata": {
        "id": "3sgz6bdQYuw7"
      },
      "source": [
        "ukraine_df[numerical_features].hist()"
      ],
      "execution_count": null,
      "outputs": []
    },
    {
      "cell_type": "code",
      "metadata": {
        "id": "kxe6OzO3Y4B1"
      },
      "source": [
        "ukraine_df[numerical_features].hist(column = 'people_vaccinated')\n",
        "plt.xlabel(\"Count\")\n",
        "plt.ylabel(\"Total Population\")\n",
        "plt.title(\"People Vaccinated in UKRAINE 10,245,773 is Million \")\n",
        "column = ukraine_df[\"people_vaccinated\"]\n",
        "max_value = column.max()\n",
        "number_with_commas = \"{:,}\".format(10245773)\n",
        "print(number_with_commas)\n",
        "print(max_value)"
      ],
      "execution_count": null,
      "outputs": []
    },
    {
      "cell_type": "code",
      "metadata": {
        "id": "-rmBwny8Z_CM"
      },
      "source": [
        "#Q1\n",
        "ukraine_df[numerical_features].hist(column = 'people_fully_vaccinated')\n",
        "plt.xlabel(\"Count\")\n",
        "plt.ylabel(\"Total Population\")\n",
        "plt.title(\"People Fully Vaccinated in UKRAINE 7,449,818 is Million \")\n",
        "column = ukraine_df[\"people_fully_vaccinated\"]\n",
        "max_value = column.max()\n",
        "number_with_commas = \"{:,}\".format(7449818)\n",
        "print(number_with_commas)\n",
        "print(max_value)"
      ],
      "execution_count": null,
      "outputs": []
    },
    {
      "cell_type": "code",
      "metadata": {
        "id": "lMX1WoAWaTP-"
      },
      "source": [
        "#Q1\n",
        "ukraine_df[numerical_features].hist(column = 'total_vaccinations')\n",
        "plt.xlabel(\"Count\")\n",
        "plt.ylabel(\"Total Population\")\n",
        "plt.title(\"Total Vaccination provided in UKRAINE 17,695,591 is billion \")\n",
        "column = ukraine_df[\"total_vaccinations\"]\n",
        "max_value = column.max()\n",
        "number_with_commas = \"{:,}\".format(17695591)\n",
        "print(number_with_commas)\n",
        "print(max_value)"
      ],
      "execution_count": null,
      "outputs": []
    },
    {
      "cell_type": "code",
      "metadata": {
        "id": "Hq12-RG4avHl"
      },
      "source": [
        "sns.heatmap(ukraine_df[numerical_features].corr(), vmin=1, vmax=1, annot=True)"
      ],
      "execution_count": null,
      "outputs": []
    },
    {
      "cell_type": "code",
      "metadata": {
        "id": "8LOlRZrBZ1JQ"
      },
      "source": [
        "#Canada and US dataset\n",
        "#Q3 Comparison between 2 large countries\n",
        "US_df = pd.read_csv(\"/content/gdrive/MyDrive/Colab Notebooks/data/US.csv\")"
      ],
      "execution_count": null,
      "outputs": []
    },
    {
      "cell_type": "code",
      "metadata": {
        "id": "6DTpgGjTb5Cw"
      },
      "source": [
        "US_df.head()"
      ],
      "execution_count": null,
      "outputs": []
    },
    {
      "cell_type": "code",
      "metadata": {
        "id": "Bx0UC2ysb7fg"
      },
      "source": [
        "US_df.dtypes"
      ],
      "execution_count": null,
      "outputs": []
    },
    {
      "cell_type": "code",
      "metadata": {
        "id": "E2B2U-gqb9M9"
      },
      "source": [
        "US_df.shape"
      ],
      "execution_count": null,
      "outputs": []
    },
    {
      "cell_type": "code",
      "metadata": {
        "id": "cP2DxI9zb_Mt"
      },
      "source": [
        "Canada_df = pd.read_csv(\"/content/gdrive/MyDrive/Colab Notebooks/data/Canada.csv\")"
      ],
      "execution_count": null,
      "outputs": []
    },
    {
      "cell_type": "code",
      "metadata": {
        "id": "6-eybUrXcIrU"
      },
      "source": [
        "first_column = Canada_df.pop('location')\n",
        "Canada_df.insert(1, 'location',first_column)"
      ],
      "execution_count": null,
      "outputs": []
    },
    {
      "cell_type": "code",
      "metadata": {
        "id": "SWm_z1zvcQQG"
      },
      "source": [
        "Canada_df.shape"
      ],
      "execution_count": null,
      "outputs": []
    },
    {
      "cell_type": "code",
      "metadata": {
        "id": "7XJQjrx3cTbu"
      },
      "source": [
        "first_column = Canada_df.pop('people_vaccinated')\n",
        "Canada_df.insert(3, 'people_vaccinated',first_column)"
      ],
      "execution_count": null,
      "outputs": []
    },
    {
      "cell_type": "code",
      "metadata": {
        "id": "nRhYiG_7cUK9"
      },
      "source": [
        "Canada_df.tail()"
      ],
      "execution_count": null,
      "outputs": []
    },
    {
      "cell_type": "code",
      "metadata": {
        "id": "oHL6W3h5cWK5"
      },
      "source": [
        "# concate 2 datasets US AND CANADA\n",
        "frames = [US_df, Canada_df]\n",
        "dataset1 = pd.concat(frames)"
      ],
      "execution_count": null,
      "outputs": []
    },
    {
      "cell_type": "code",
      "metadata": {
        "id": "ASfKyA0BcY8D"
      },
      "source": [
        "dataset1.head()"
      ],
      "execution_count": null,
      "outputs": []
    },
    {
      "cell_type": "code",
      "metadata": {
        "id": "HxcQVyvBca4a"
      },
      "source": [
        "dataset1.shape"
      ],
      "execution_count": null,
      "outputs": []
    },
    {
      "cell_type": "code",
      "metadata": {
        "id": "KAomWbuSccuA"
      },
      "source": [
        "dataset1.dtypes"
      ],
      "execution_count": null,
      "outputs": []
    },
    {
      "cell_type": "code",
      "metadata": {
        "id": "Crq8bHgCc0bw"
      },
      "source": [
        "dataset1.columns"
      ],
      "execution_count": null,
      "outputs": []
    },
    {
      "cell_type": "code",
      "metadata": {
        "id": "9GfHYRgRceb-"
      },
      "source": [
        "# removing unwanted columns\n",
        "columns_to_remove = ['total_boosters']\n",
        "dataset1.drop(labels=columns_to_remove, axis=1, inplace=True)\n"
      ],
      "execution_count": null,
      "outputs": []
    },
    {
      "cell_type": "code",
      "metadata": {
        "id": "Aa3gRMsFc_uv"
      },
      "source": [
        "dataset1.head()"
      ],
      "execution_count": null,
      "outputs": []
    },
    {
      "cell_type": "code",
      "metadata": {
        "id": "FW37YS1kdByd"
      },
      "source": [
        "dataset1[numerical_features].hist()"
      ],
      "execution_count": null,
      "outputs": []
    },
    {
      "cell_type": "code",
      "metadata": {
        "id": "b8MsNf0jdTwe"
      },
      "source": [
        "wordCloud = WordCloud(\n",
        "    background_color='brown',\n",
        "    max_font_size = 40).generate(' '.join(dataset1.vaccine))\n",
        "plt.figure(figsize=(15,7))\n",
        "plt.axis('off')\n",
        "plt.imshow(wordCloud)\n",
        "plt.show()"
      ],
      "execution_count": null,
      "outputs": []
    },
    {
      "cell_type": "code",
      "metadata": {
        "id": "ZeSHh3BIdwuf"
      },
      "source": [
        "#Q3\n",
        "dataset1[numerical_features].hist(column = 'people_fully_vaccinated')\n",
        "plt.xlabel(\"Count\")\n",
        "plt.ylabel(\"Total Population\")\n",
        "plt.title(\"People Full Vaccinated in US & CANADA is 191,823,814 Billion \")\n",
        "column = dataset1[\"people_fully_vaccinated\"]\n",
        "number_with_commas = \"{:,}\".format(191823814)\n",
        "print(number_with_commas)\n",
        "max_value = column.max()\n",
        "print(max_value)"
      ],
      "execution_count": null,
      "outputs": []
    },
    {
      "cell_type": "code",
      "metadata": {
        "id": "zF2IxWeWeX0P"
      },
      "source": [
        "dataset1[numerical_features].hist(column = 'total_vaccinations')\n",
        "plt.xlabel(\"Count\")\n",
        "plt.ylabel(\"Total Population\")\n",
        "plt.title(\"Total Vaccinations provided in US & CANADA is 426,728,092 Billion \")\n",
        "column = dataset1[\"total_vaccinations\"]\n",
        "max_value = column.max()\n",
        "number_with_commas = \"{:,}\".format(426728092)\n",
        "print(max_value)\n",
        "print(number_with_commas)"
      ],
      "execution_count": null,
      "outputs": []
    },
    {
      "cell_type": "code",
      "metadata": {
        "id": "blQMoZWtfb5k"
      },
      "source": [
        "dataset1[numerical_features].hist(column = 'people_vaccinated')\n",
        "plt.xlabel(\"Count\")\n",
        "plt.ylabel(\"Total Population\")\n",
        "plt.title(\"People Vaccinated in US & CANADA is 222,591,394 Billion \")\n",
        "column = dataset1[\"people_vaccinated\"]\n",
        "max_value = column.max()\n",
        "number_with_commas = \"{:,}\".format(222591394)\n",
        "print(number_with_commas)\n",
        "print(max_value)\n"
      ],
      "execution_count": null,
      "outputs": []
    },
    {
      "cell_type": "code",
      "source": [
        "number_with_commas = \"{:,}\".format(1000000)\n",
        "\n",
        "print(number_with_commas)"
      ],
      "metadata": {
        "id": "ctDfnJaNImoj"
      },
      "execution_count": null,
      "outputs": []
    },
    {
      "cell_type": "code",
      "metadata": {
        "id": "M2dEVHT6f1NY"
      },
      "source": [
        "# describe the data\n",
        "# categorical values\n",
        "categorical_features = [feature for feature in dataset1.columns if dataset1[feature].dtype == 'O']\n",
        "print('Number of numerical variables: ', len(categorical_features))"
      ],
      "execution_count": null,
      "outputs": []
    },
    {
      "cell_type": "code",
      "metadata": {
        "id": "HCL0Kjyyf6kj"
      },
      "source": [
        "dataset1[categorical_features].describe()"
      ],
      "execution_count": null,
      "outputs": []
    },
    {
      "cell_type": "markdown",
      "metadata": {
        "id": "wcdtmhtcgA2O"
      },
      "source": [
        "#Missing values"
      ]
    },
    {
      "cell_type": "code",
      "metadata": {
        "id": "eZHff7prgF_7"
      },
      "source": [
        "dataset1.isnull().count()"
      ],
      "execution_count": null,
      "outputs": []
    },
    {
      "cell_type": "code",
      "metadata": {
        "id": "wOeSbBGIgKN1"
      },
      "source": [
        "dataset1['people_fully_vaccinated'].isnull().any()"
      ],
      "execution_count": null,
      "outputs": []
    },
    {
      "cell_type": "markdown",
      "metadata": {
        "id": "tYObrXFXgVsi"
      },
      "source": [
        "#DATA TRANSFORMATION"
      ]
    },
    {
      "cell_type": "code",
      "metadata": {
        "id": "1eW3v_Z1gbPv"
      },
      "source": [
        "# one hot encoding\n",
        "print(dataset1['location'].unique())\n",
        "print(dataset1['vaccine'].unique())"
      ],
      "execution_count": null,
      "outputs": []
    },
    {
      "cell_type": "code",
      "metadata": {
        "id": "6lH8ac-3gdKW"
      },
      "source": [
        "dataset1['location'].value_counts()\n",
        "dataset1['vaccine'].value_counts()"
      ],
      "execution_count": null,
      "outputs": []
    },
    {
      "cell_type": "code",
      "metadata": {
        "id": "y90pKCdMgeyk"
      },
      "source": [
        "dataset1 = pd.get_dummies(dataset1, columns = ['location', 'vaccine'])\n",
        "dataset1.head()"
      ],
      "execution_count": null,
      "outputs": []
    },
    {
      "cell_type": "code",
      "metadata": {
        "id": "X8XyI0CeggvX"
      },
      "source": [
        "dataset1['year'] = pd.DatetimeIndex(dataset1['date']).year"
      ],
      "execution_count": null,
      "outputs": []
    },
    {
      "cell_type": "code",
      "metadata": {
        "id": "gAAcU8inmu6g"
      },
      "source": [
        "#Q2) 2020 TO 2021 \n",
        "dataset1.plot(x=\"year\",y=\"people_fully_vaccinated\")\n",
        "plt.xlabel(\"Year\")\n",
        "plt.ylabel(\"people_fully_vaccinated\")\n",
        "plt.title(\"By 2020 to 2021 in both US & Canada 20 Billion people got fully vaccinated\")\n"
      ],
      "execution_count": null,
      "outputs": []
    }
  ]
}