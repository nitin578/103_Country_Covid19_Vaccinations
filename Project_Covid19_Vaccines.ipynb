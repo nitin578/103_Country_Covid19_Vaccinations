{
  "nbformat": 4,
  "nbformat_minor": 0,
  "metadata": {
    "colab": {
      "name": "Project_Covid19_Vaccines.ipynb",
      "provenance": [],
      "collapsed_sections": []
    },
    "kernelspec": {
      "name": "python3",
      "display_name": "Python 3"
    },
    "language_info": {
      "name": "python"
    }
  },
  "cells": [
    {
      "cell_type": "code",
      "metadata": {
        "id": "DsgUAl6_UZHO"
      },
      "source": [
        "from google.colab import drive\n"
      ],
      "execution_count": 30,
      "outputs": []
    },
    {
      "cell_type": "code",
      "metadata": {
        "colab": {
          "base_uri": "https://localhost:8080/"
        },
        "id": "FawM3XtPWARu",
        "outputId": "1a065c4c-624a-472a-9243-04bf14aaebd8"
      },
      "source": [
        "drive.mount(\"/content/gdrive\")"
      ],
      "execution_count": 31,
      "outputs": [
        {
          "output_type": "stream",
          "name": "stdout",
          "text": [
            "Drive already mounted at /content/gdrive; to attempt to forcibly remount, call drive.mount(\"/content/gdrive\", force_remount=True).\n"
          ]
        }
      ]
    },
    {
      "cell_type": "code",
      "metadata": {
        "id": "-lLvhKWTV8uY"
      },
      "source": [
        "import pandas as pd"
      ],
      "execution_count": 32,
      "outputs": []
    },
    {
      "cell_type": "markdown",
      "metadata": {
        "id": "qpLY7ghbqOE5"
      },
      "source": [
        "# making dataframe "
      ]
    },
    {
      "cell_type": "code",
      "metadata": {
        "id": "r4tR_n-gWLZx"
      },
      "source": [
        "df=pd.read_csv('/content/gdrive/MyDrive/Colab Notebooks/data/Canada.csv')"
      ],
      "execution_count": 33,
      "outputs": []
    },
    {
      "cell_type": "code",
      "metadata": {
        "colab": {
          "base_uri": "https://localhost:8080/",
          "height": 779
        },
        "id": "xwoBHdOPhHs2",
        "outputId": "45f0d7aa-6e87-4f9e-a8ad-522077d59166"
      },
      "source": [
        "df\n"
      ],
      "execution_count": 34,
      "outputs": [
        {
          "output_type": "execute_result",
          "data": {
            "text/html": [
              "<div>\n",
              "<style scoped>\n",
              "    .dataframe tbody tr th:only-of-type {\n",
              "        vertical-align: middle;\n",
              "    }\n",
              "\n",
              "    .dataframe tbody tr th {\n",
              "        vertical-align: top;\n",
              "    }\n",
              "\n",
              "    .dataframe thead th {\n",
              "        text-align: right;\n",
              "    }\n",
              "</style>\n",
              "<table border=\"1\" class=\"dataframe\">\n",
              "  <thead>\n",
              "    <tr style=\"text-align: right;\">\n",
              "      <th></th>\n",
              "      <th>date</th>\n",
              "      <th>total_vaccinations</th>\n",
              "      <th>people_fully_vaccinated</th>\n",
              "      <th>total_boosters</th>\n",
              "      <th>people_vaccinated</th>\n",
              "      <th>location</th>\n",
              "      <th>source_url</th>\n",
              "      <th>vaccine</th>\n",
              "    </tr>\n",
              "  </thead>\n",
              "  <tbody>\n",
              "    <tr>\n",
              "      <th>0</th>\n",
              "      <td>2020-12-14</td>\n",
              "      <td>5</td>\n",
              "      <td>0</td>\n",
              "      <td>0</td>\n",
              "      <td>5</td>\n",
              "      <td>Canada</td>\n",
              "      <td>https://covid19tracker.ca/vaccinationtracker.html</td>\n",
              "      <td>Moderna, Oxford/AstraZeneca, Pfizer/BioNTech</td>\n",
              "    </tr>\n",
              "    <tr>\n",
              "      <th>1</th>\n",
              "      <td>2020-12-15</td>\n",
              "      <td>727</td>\n",
              "      <td>0</td>\n",
              "      <td>0</td>\n",
              "      <td>727</td>\n",
              "      <td>Canada</td>\n",
              "      <td>https://covid19tracker.ca/vaccinationtracker.html</td>\n",
              "      <td>Moderna, Oxford/AstraZeneca, Pfizer/BioNTech</td>\n",
              "    </tr>\n",
              "    <tr>\n",
              "      <th>2</th>\n",
              "      <td>2020-12-16</td>\n",
              "      <td>3015</td>\n",
              "      <td>0</td>\n",
              "      <td>0</td>\n",
              "      <td>3015</td>\n",
              "      <td>Canada</td>\n",
              "      <td>https://covid19tracker.ca/vaccinationtracker.html</td>\n",
              "      <td>Moderna, Oxford/AstraZeneca, Pfizer/BioNTech</td>\n",
              "    </tr>\n",
              "    <tr>\n",
              "      <th>3</th>\n",
              "      <td>2020-12-17</td>\n",
              "      <td>7266</td>\n",
              "      <td>0</td>\n",
              "      <td>0</td>\n",
              "      <td>7266</td>\n",
              "      <td>Canada</td>\n",
              "      <td>https://covid19tracker.ca/vaccinationtracker.html</td>\n",
              "      <td>Moderna, Oxford/AstraZeneca, Pfizer/BioNTech</td>\n",
              "    </tr>\n",
              "    <tr>\n",
              "      <th>4</th>\n",
              "      <td>2020-12-18</td>\n",
              "      <td>11274</td>\n",
              "      <td>0</td>\n",
              "      <td>0</td>\n",
              "      <td>11274</td>\n",
              "      <td>Canada</td>\n",
              "      <td>https://covid19tracker.ca/vaccinationtracker.html</td>\n",
              "      <td>Moderna, Oxford/AstraZeneca, Pfizer/BioNTech</td>\n",
              "    </tr>\n",
              "    <tr>\n",
              "      <th>...</th>\n",
              "      <td>...</td>\n",
              "      <td>...</td>\n",
              "      <td>...</td>\n",
              "      <td>...</td>\n",
              "      <td>...</td>\n",
              "      <td>...</td>\n",
              "      <td>...</td>\n",
              "      <td>...</td>\n",
              "    </tr>\n",
              "    <tr>\n",
              "      <th>317</th>\n",
              "      <td>2021-10-27</td>\n",
              "      <td>58428432</td>\n",
              "      <td>28144619</td>\n",
              "      <td>511618</td>\n",
              "      <td>29772195</td>\n",
              "      <td>Canada</td>\n",
              "      <td>https://covid19tracker.ca/vaccinationtracker.html</td>\n",
              "      <td>Moderna, Oxford/AstraZeneca, Pfizer/BioNTech</td>\n",
              "    </tr>\n",
              "    <tr>\n",
              "      <th>318</th>\n",
              "      <td>2021-10-28</td>\n",
              "      <td>58511813</td>\n",
              "      <td>28185778</td>\n",
              "      <td>528738</td>\n",
              "      <td>29797297</td>\n",
              "      <td>Canada</td>\n",
              "      <td>https://covid19tracker.ca/vaccinationtracker.html</td>\n",
              "      <td>Moderna, Oxford/AstraZeneca, Pfizer/BioNTech</td>\n",
              "    </tr>\n",
              "    <tr>\n",
              "      <th>319</th>\n",
              "      <td>2021-10-29</td>\n",
              "      <td>58589032</td>\n",
              "      <td>28225947</td>\n",
              "      <td>539126</td>\n",
              "      <td>29823959</td>\n",
              "      <td>Canada</td>\n",
              "      <td>https://covid19tracker.ca/vaccinationtracker.html</td>\n",
              "      <td>Moderna, Oxford/AstraZeneca, Pfizer/BioNTech</td>\n",
              "    </tr>\n",
              "    <tr>\n",
              "      <th>320</th>\n",
              "      <td>2021-10-30</td>\n",
              "      <td>58629704</td>\n",
              "      <td>28250376</td>\n",
              "      <td>544017</td>\n",
              "      <td>29835311</td>\n",
              "      <td>Canada</td>\n",
              "      <td>https://covid19tracker.ca/vaccinationtracker.html</td>\n",
              "      <td>Moderna, Oxford/AstraZeneca, Pfizer/BioNTech</td>\n",
              "    </tr>\n",
              "    <tr>\n",
              "      <th>321</th>\n",
              "      <td>2021-10-31</td>\n",
              "      <td>58663274</td>\n",
              "      <td>28272392</td>\n",
              "      <td>545539</td>\n",
              "      <td>29845343</td>\n",
              "      <td>Canada</td>\n",
              "      <td>https://covid19tracker.ca/vaccinationtracker.html</td>\n",
              "      <td>Moderna, Oxford/AstraZeneca, Pfizer/BioNTech</td>\n",
              "    </tr>\n",
              "  </tbody>\n",
              "</table>\n",
              "<p>322 rows × 8 columns</p>\n",
              "</div>"
            ],
            "text/plain": [
              "           date  ...                                       vaccine\n",
              "0    2020-12-14  ...  Moderna, Oxford/AstraZeneca, Pfizer/BioNTech\n",
              "1    2020-12-15  ...  Moderna, Oxford/AstraZeneca, Pfizer/BioNTech\n",
              "2    2020-12-16  ...  Moderna, Oxford/AstraZeneca, Pfizer/BioNTech\n",
              "3    2020-12-17  ...  Moderna, Oxford/AstraZeneca, Pfizer/BioNTech\n",
              "4    2020-12-18  ...  Moderna, Oxford/AstraZeneca, Pfizer/BioNTech\n",
              "..          ...  ...                                           ...\n",
              "317  2021-10-27  ...  Moderna, Oxford/AstraZeneca, Pfizer/BioNTech\n",
              "318  2021-10-28  ...  Moderna, Oxford/AstraZeneca, Pfizer/BioNTech\n",
              "319  2021-10-29  ...  Moderna, Oxford/AstraZeneca, Pfizer/BioNTech\n",
              "320  2021-10-30  ...  Moderna, Oxford/AstraZeneca, Pfizer/BioNTech\n",
              "321  2021-10-31  ...  Moderna, Oxford/AstraZeneca, Pfizer/BioNTech\n",
              "\n",
              "[322 rows x 8 columns]"
            ]
          },
          "metadata": {},
          "execution_count": 34
        }
      ]
    },
    {
      "cell_type": "markdown",
      "metadata": {
        "id": "7wuM9VvZa6_-"
      },
      "source": [
        "#Removed the source_url column from the dataframe as it just  the same links to destination."
      ]
    },
    {
      "cell_type": "code",
      "metadata": {
        "id": "Wyrn3E9OV2G3"
      },
      "source": [
        "df.drop('source_url', axis=1, inplace=True)"
      ],
      "execution_count": 35,
      "outputs": []
    },
    {
      "cell_type": "code",
      "metadata": {
        "colab": {
          "base_uri": "https://localhost:8080/",
          "height": 759
        },
        "id": "cxQfiaoWWBwL",
        "outputId": "e5716a30-3429-4c64-9c5b-6353dd6b8ffa"
      },
      "source": [
        "df"
      ],
      "execution_count": 36,
      "outputs": [
        {
          "output_type": "execute_result",
          "data": {
            "text/html": [
              "<div>\n",
              "<style scoped>\n",
              "    .dataframe tbody tr th:only-of-type {\n",
              "        vertical-align: middle;\n",
              "    }\n",
              "\n",
              "    .dataframe tbody tr th {\n",
              "        vertical-align: top;\n",
              "    }\n",
              "\n",
              "    .dataframe thead th {\n",
              "        text-align: right;\n",
              "    }\n",
              "</style>\n",
              "<table border=\"1\" class=\"dataframe\">\n",
              "  <thead>\n",
              "    <tr style=\"text-align: right;\">\n",
              "      <th></th>\n",
              "      <th>date</th>\n",
              "      <th>total_vaccinations</th>\n",
              "      <th>people_fully_vaccinated</th>\n",
              "      <th>total_boosters</th>\n",
              "      <th>people_vaccinated</th>\n",
              "      <th>location</th>\n",
              "      <th>vaccine</th>\n",
              "    </tr>\n",
              "  </thead>\n",
              "  <tbody>\n",
              "    <tr>\n",
              "      <th>0</th>\n",
              "      <td>2020-12-14</td>\n",
              "      <td>5</td>\n",
              "      <td>0</td>\n",
              "      <td>0</td>\n",
              "      <td>5</td>\n",
              "      <td>Canada</td>\n",
              "      <td>Moderna, Oxford/AstraZeneca, Pfizer/BioNTech</td>\n",
              "    </tr>\n",
              "    <tr>\n",
              "      <th>1</th>\n",
              "      <td>2020-12-15</td>\n",
              "      <td>727</td>\n",
              "      <td>0</td>\n",
              "      <td>0</td>\n",
              "      <td>727</td>\n",
              "      <td>Canada</td>\n",
              "      <td>Moderna, Oxford/AstraZeneca, Pfizer/BioNTech</td>\n",
              "    </tr>\n",
              "    <tr>\n",
              "      <th>2</th>\n",
              "      <td>2020-12-16</td>\n",
              "      <td>3015</td>\n",
              "      <td>0</td>\n",
              "      <td>0</td>\n",
              "      <td>3015</td>\n",
              "      <td>Canada</td>\n",
              "      <td>Moderna, Oxford/AstraZeneca, Pfizer/BioNTech</td>\n",
              "    </tr>\n",
              "    <tr>\n",
              "      <th>3</th>\n",
              "      <td>2020-12-17</td>\n",
              "      <td>7266</td>\n",
              "      <td>0</td>\n",
              "      <td>0</td>\n",
              "      <td>7266</td>\n",
              "      <td>Canada</td>\n",
              "      <td>Moderna, Oxford/AstraZeneca, Pfizer/BioNTech</td>\n",
              "    </tr>\n",
              "    <tr>\n",
              "      <th>4</th>\n",
              "      <td>2020-12-18</td>\n",
              "      <td>11274</td>\n",
              "      <td>0</td>\n",
              "      <td>0</td>\n",
              "      <td>11274</td>\n",
              "      <td>Canada</td>\n",
              "      <td>Moderna, Oxford/AstraZeneca, Pfizer/BioNTech</td>\n",
              "    </tr>\n",
              "    <tr>\n",
              "      <th>...</th>\n",
              "      <td>...</td>\n",
              "      <td>...</td>\n",
              "      <td>...</td>\n",
              "      <td>...</td>\n",
              "      <td>...</td>\n",
              "      <td>...</td>\n",
              "      <td>...</td>\n",
              "    </tr>\n",
              "    <tr>\n",
              "      <th>317</th>\n",
              "      <td>2021-10-27</td>\n",
              "      <td>58428432</td>\n",
              "      <td>28144619</td>\n",
              "      <td>511618</td>\n",
              "      <td>29772195</td>\n",
              "      <td>Canada</td>\n",
              "      <td>Moderna, Oxford/AstraZeneca, Pfizer/BioNTech</td>\n",
              "    </tr>\n",
              "    <tr>\n",
              "      <th>318</th>\n",
              "      <td>2021-10-28</td>\n",
              "      <td>58511813</td>\n",
              "      <td>28185778</td>\n",
              "      <td>528738</td>\n",
              "      <td>29797297</td>\n",
              "      <td>Canada</td>\n",
              "      <td>Moderna, Oxford/AstraZeneca, Pfizer/BioNTech</td>\n",
              "    </tr>\n",
              "    <tr>\n",
              "      <th>319</th>\n",
              "      <td>2021-10-29</td>\n",
              "      <td>58589032</td>\n",
              "      <td>28225947</td>\n",
              "      <td>539126</td>\n",
              "      <td>29823959</td>\n",
              "      <td>Canada</td>\n",
              "      <td>Moderna, Oxford/AstraZeneca, Pfizer/BioNTech</td>\n",
              "    </tr>\n",
              "    <tr>\n",
              "      <th>320</th>\n",
              "      <td>2021-10-30</td>\n",
              "      <td>58629704</td>\n",
              "      <td>28250376</td>\n",
              "      <td>544017</td>\n",
              "      <td>29835311</td>\n",
              "      <td>Canada</td>\n",
              "      <td>Moderna, Oxford/AstraZeneca, Pfizer/BioNTech</td>\n",
              "    </tr>\n",
              "    <tr>\n",
              "      <th>321</th>\n",
              "      <td>2021-10-31</td>\n",
              "      <td>58663274</td>\n",
              "      <td>28272392</td>\n",
              "      <td>545539</td>\n",
              "      <td>29845343</td>\n",
              "      <td>Canada</td>\n",
              "      <td>Moderna, Oxford/AstraZeneca, Pfizer/BioNTech</td>\n",
              "    </tr>\n",
              "  </tbody>\n",
              "</table>\n",
              "<p>322 rows × 7 columns</p>\n",
              "</div>"
            ],
            "text/plain": [
              "           date  ...                                       vaccine\n",
              "0    2020-12-14  ...  Moderna, Oxford/AstraZeneca, Pfizer/BioNTech\n",
              "1    2020-12-15  ...  Moderna, Oxford/AstraZeneca, Pfizer/BioNTech\n",
              "2    2020-12-16  ...  Moderna, Oxford/AstraZeneca, Pfizer/BioNTech\n",
              "3    2020-12-17  ...  Moderna, Oxford/AstraZeneca, Pfizer/BioNTech\n",
              "4    2020-12-18  ...  Moderna, Oxford/AstraZeneca, Pfizer/BioNTech\n",
              "..          ...  ...                                           ...\n",
              "317  2021-10-27  ...  Moderna, Oxford/AstraZeneca, Pfizer/BioNTech\n",
              "318  2021-10-28  ...  Moderna, Oxford/AstraZeneca, Pfizer/BioNTech\n",
              "319  2021-10-29  ...  Moderna, Oxford/AstraZeneca, Pfizer/BioNTech\n",
              "320  2021-10-30  ...  Moderna, Oxford/AstraZeneca, Pfizer/BioNTech\n",
              "321  2021-10-31  ...  Moderna, Oxford/AstraZeneca, Pfizer/BioNTech\n",
              "\n",
              "[322 rows x 7 columns]"
            ]
          },
          "metadata": {},
          "execution_count": 36
        }
      ]
    },
    {
      "cell_type": "code",
      "metadata": {
        "id": "YQltL0Ioi55Z"
      },
      "source": [
        "import matplotlib.pyplot as plt"
      ],
      "execution_count": 37,
      "outputs": []
    },
    {
      "cell_type": "code",
      "metadata": {
        "id": "xq-nkwyijJya"
      },
      "source": [
        "import numpy as np"
      ],
      "execution_count": 38,
      "outputs": []
    },
    {
      "cell_type": "code",
      "metadata": {
        "colab": {
          "base_uri": "https://localhost:8080/"
        },
        "id": "rb_g0nRajOrQ",
        "outputId": "9144ad44-fcf8-4f9a-a025-b2631c1fa877"
      },
      "source": [
        "df.columns"
      ],
      "execution_count": 39,
      "outputs": [
        {
          "output_type": "execute_result",
          "data": {
            "text/plain": [
              "Index(['date', 'total_vaccinations', 'people_fully_vaccinated',\n",
              "       'total_boosters', 'people_vaccinated', 'location', 'vaccine'],\n",
              "      dtype='object')"
            ]
          },
          "metadata": {},
          "execution_count": 39
        }
      ]
    },
    {
      "cell_type": "code",
      "metadata": {
        "colab": {
          "base_uri": "https://localhost:8080/",
          "height": 294
        },
        "id": "F7tBNgMkkRk7",
        "outputId": "f57125d5-e2cf-4042-cc33-45bfdc88f332"
      },
      "source": [
        "df.boxplot(column=['total_vaccinations'])"
      ],
      "execution_count": 40,
      "outputs": [
        {
          "output_type": "execute_result",
          "data": {
            "text/plain": [
              "<matplotlib.axes._subplots.AxesSubplot at 0x7f843b5d31d0>"
            ]
          },
          "metadata": {},
          "execution_count": 40
        },
        {
          "output_type": "display_data",
          "data": {
            "image/png": "[encoded data removed]",
            "text/plain": [
              "<Figure size 432x288 with 1 Axes>"
            ]
          },
          "metadata": {
            "needs_background": "light"
          }
        }
      ]
    },
    {
      "cell_type": "code",
      "metadata": {
        "id": "iIlzDwYsmL-y"
      },
      "source": [
        "df=pd.read_csv('/content/gdrive/MyDrive/Colab Notebooks/data/Ukraine.csv')"
      ],
      "execution_count": 41,
      "outputs": []
    },
    {
      "cell_type": "code",
      "metadata": {
        "colab": {
          "base_uri": "https://localhost:8080/",
          "height": 694
        },
        "id": "D5I15oYVmbim",
        "outputId": "fd18e488-fb95-4c80-f04d-cc076e8818b2"
      },
      "source": [
        "df"
      ],
      "execution_count": 42,
      "outputs": [
        {
          "output_type": "execute_result",
          "data": {
            "text/html": [
              "<div>\n",
              "<style scoped>\n",
              "    .dataframe tbody tr th:only-of-type {\n",
              "        vertical-align: middle;\n",
              "    }\n",
              "\n",
              "    .dataframe tbody tr th {\n",
              "        vertical-align: top;\n",
              "    }\n",
              "\n",
              "    .dataframe thead th {\n",
              "        text-align: right;\n",
              "    }\n",
              "</style>\n",
              "<table border=\"1\" class=\"dataframe\">\n",
              "  <thead>\n",
              "    <tr style=\"text-align: right;\">\n",
              "      <th></th>\n",
              "      <th>location</th>\n",
              "      <th>date</th>\n",
              "      <th>vaccine</th>\n",
              "      <th>source_url</th>\n",
              "      <th>total_vaccinations</th>\n",
              "      <th>people_vaccinated</th>\n",
              "      <th>people_fully_vaccinated</th>\n",
              "      <th>total_boosters</th>\n",
              "    </tr>\n",
              "  </thead>\n",
              "  <tbody>\n",
              "    <tr>\n",
              "      <th>0</th>\n",
              "      <td>Ukraine</td>\n",
              "      <td>2021-02-24</td>\n",
              "      <td>Oxford/AstraZeneca</td>\n",
              "      <td>https://t.me/COVID19_Ukraine/1485</td>\n",
              "      <td>159</td>\n",
              "      <td>159</td>\n",
              "      <td>0</td>\n",
              "      <td>NaN</td>\n",
              "    </tr>\n",
              "    <tr>\n",
              "      <th>1</th>\n",
              "      <td>Ukraine</td>\n",
              "      <td>2021-02-25</td>\n",
              "      <td>Oxford/AstraZeneca</td>\n",
              "      <td>https://vaccination.covid19.gov.ua/</td>\n",
              "      <td>1338</td>\n",
              "      <td>1338</td>\n",
              "      <td>0</td>\n",
              "      <td>NaN</td>\n",
              "    </tr>\n",
              "    <tr>\n",
              "      <th>2</th>\n",
              "      <td>Ukraine</td>\n",
              "      <td>2021-02-26</td>\n",
              "      <td>Oxford/AstraZeneca</td>\n",
              "      <td>https://vaccination.covid19.gov.ua/</td>\n",
              "      <td>3051</td>\n",
              "      <td>3051</td>\n",
              "      <td>0</td>\n",
              "      <td>NaN</td>\n",
              "    </tr>\n",
              "    <tr>\n",
              "      <th>3</th>\n",
              "      <td>Ukraine</td>\n",
              "      <td>2021-02-27</td>\n",
              "      <td>Oxford/AstraZeneca</td>\n",
              "      <td>https://vaccination.covid19.gov.ua/</td>\n",
              "      <td>3141</td>\n",
              "      <td>3141</td>\n",
              "      <td>0</td>\n",
              "      <td>NaN</td>\n",
              "    </tr>\n",
              "    <tr>\n",
              "      <th>4</th>\n",
              "      <td>Ukraine</td>\n",
              "      <td>2021-03-01</td>\n",
              "      <td>Oxford/AstraZeneca</td>\n",
              "      <td>https://vaccination.covid19.gov.ua/</td>\n",
              "      <td>4905</td>\n",
              "      <td>4905</td>\n",
              "      <td>0</td>\n",
              "      <td>NaN</td>\n",
              "    </tr>\n",
              "    <tr>\n",
              "      <th>...</th>\n",
              "      <td>...</td>\n",
              "      <td>...</td>\n",
              "      <td>...</td>\n",
              "      <td>...</td>\n",
              "      <td>...</td>\n",
              "      <td>...</td>\n",
              "      <td>...</td>\n",
              "      <td>...</td>\n",
              "    </tr>\n",
              "    <tr>\n",
              "      <th>233</th>\n",
              "      <td>Ukraine</td>\n",
              "      <td>2021-10-27</td>\n",
              "      <td>Moderna, Oxford/AstraZeneca, Sinovac, Pfizer/B...</td>\n",
              "      <td>https://vaccination.covid19.gov.ua/</td>\n",
              "      <td>16793558</td>\n",
              "      <td>9576175</td>\n",
              "      <td>7217383</td>\n",
              "      <td>NaN</td>\n",
              "    </tr>\n",
              "    <tr>\n",
              "      <th>234</th>\n",
              "      <td>Ukraine</td>\n",
              "      <td>2021-10-28</td>\n",
              "      <td>Moderna, Oxford/AstraZeneca, Sinovac, Pfizer/B...</td>\n",
              "      <td>https://vaccination.covid19.gov.ua/</td>\n",
              "      <td>17082799</td>\n",
              "      <td>9790278</td>\n",
              "      <td>7292521</td>\n",
              "      <td>NaN</td>\n",
              "    </tr>\n",
              "    <tr>\n",
              "      <th>235</th>\n",
              "      <td>Ukraine</td>\n",
              "      <td>2021-10-29</td>\n",
              "      <td>Moderna, Oxford/AstraZeneca, Sinovac, Pfizer/B...</td>\n",
              "      <td>https://vaccination.covid19.gov.ua/</td>\n",
              "      <td>17400008</td>\n",
              "      <td>10022976</td>\n",
              "      <td>7377032</td>\n",
              "      <td>NaN</td>\n",
              "    </tr>\n",
              "    <tr>\n",
              "      <th>236</th>\n",
              "      <td>Ukraine</td>\n",
              "      <td>2021-10-30</td>\n",
              "      <td>Moderna, Oxford/AstraZeneca, Sinovac, Pfizer/B...</td>\n",
              "      <td>https://vaccination.covid19.gov.ua/</td>\n",
              "      <td>17577773</td>\n",
              "      <td>10156227</td>\n",
              "      <td>7421546</td>\n",
              "      <td>NaN</td>\n",
              "    </tr>\n",
              "    <tr>\n",
              "      <th>237</th>\n",
              "      <td>Ukraine</td>\n",
              "      <td>2021-10-31</td>\n",
              "      <td>Moderna, Oxford/AstraZeneca, Sinovac, Pfizer/B...</td>\n",
              "      <td>https://vaccination.covid19.gov.ua/</td>\n",
              "      <td>17695591</td>\n",
              "      <td>10245773</td>\n",
              "      <td>7449818</td>\n",
              "      <td>NaN</td>\n",
              "    </tr>\n",
              "  </tbody>\n",
              "</table>\n",
              "<p>238 rows × 8 columns</p>\n",
              "</div>"
            ],
            "text/plain": [
              "    location        date  ... people_fully_vaccinated total_boosters\n",
              "0    Ukraine  2021-02-24  ...                       0            NaN\n",
              "1    Ukraine  2021-02-25  ...                       0            NaN\n",
              "2    Ukraine  2021-02-26  ...                       0            NaN\n",
              "3    Ukraine  2021-02-27  ...                       0            NaN\n",
              "4    Ukraine  2021-03-01  ...                       0            NaN\n",
              "..       ...         ...  ...                     ...            ...\n",
              "233  Ukraine  2021-10-27  ...                 7217383            NaN\n",
              "234  Ukraine  2021-10-28  ...                 7292521            NaN\n",
              "235  Ukraine  2021-10-29  ...                 7377032            NaN\n",
              "236  Ukraine  2021-10-30  ...                 7421546            NaN\n",
              "237  Ukraine  2021-10-31  ...                 7449818            NaN\n",
              "\n",
              "[238 rows x 8 columns]"
            ]
          },
          "metadata": {},
          "execution_count": 42
        }
      ]
    },
    {
      "cell_type": "code",
      "metadata": {
        "colab": {
          "base_uri": "https://localhost:8080/",
          "height": 294
        },
        "id": "QDRQsUlZmeWN",
        "outputId": "ef43f599-0951-44ef-a409-1d71a05baf33"
      },
      "source": [
        "df.boxplot(column=['total_vaccinations'])"
      ],
      "execution_count": 43,
      "outputs": [
        {
          "output_type": "execute_result",
          "data": {
            "text/plain": [
              "<matplotlib.axes._subplots.AxesSubplot at 0x7f843b559b10>"
            ]
          },
          "metadata": {},
          "execution_count": 43
        },
        {
          "output_type": "display_data",
          "data": {
            "image/png": "[encoded data removed]",
            "text/plain": [
              "<Figure size 432x288 with 1 Axes>"
            ]
          },
          "metadata": {
            "needs_background": "light"
          }
        }
      ]
    },
    {
      "cell_type": "code",
      "metadata": {
        "id": "eGXDvt8Nmm_0"
      },
      "source": [
        "df=pd.read_csv('/content/gdrive/MyDrive/Colab Notebooks/data/India.csv')"
      ],
      "execution_count": 44,
      "outputs": []
    },
    {
      "cell_type": "code",
      "metadata": {
        "colab": {
          "base_uri": "https://localhost:8080/",
          "height": 694
        },
        "id": "tIsqWIELmxLL",
        "outputId": "38bede55-9cc9-40fe-cda2-c655b91afd8e"
      },
      "source": [
        "df"
      ],
      "execution_count": 45,
      "outputs": [
        {
          "output_type": "execute_result",
          "data": {
            "text/html": [
              "<div>\n",
              "<style scoped>\n",
              "    .dataframe tbody tr th:only-of-type {\n",
              "        vertical-align: middle;\n",
              "    }\n",
              "\n",
              "    .dataframe tbody tr th {\n",
              "        vertical-align: top;\n",
              "    }\n",
              "\n",
              "    .dataframe thead th {\n",
              "        text-align: right;\n",
              "    }\n",
              "</style>\n",
              "<table border=\"1\" class=\"dataframe\">\n",
              "  <thead>\n",
              "    <tr style=\"text-align: right;\">\n",
              "      <th></th>\n",
              "      <th>location</th>\n",
              "      <th>date</th>\n",
              "      <th>vaccine</th>\n",
              "      <th>total_vaccinations</th>\n",
              "      <th>people_vaccinated</th>\n",
              "      <th>people_fully_vaccinated</th>\n",
              "      <th>source_url</th>\n",
              "      <th>total_boosters</th>\n",
              "    </tr>\n",
              "  </thead>\n",
              "  <tbody>\n",
              "    <tr>\n",
              "      <th>0</th>\n",
              "      <td>India</td>\n",
              "      <td>2021-01-15</td>\n",
              "      <td>Covaxin, Oxford/AstraZeneca</td>\n",
              "      <td>0</td>\n",
              "      <td>0</td>\n",
              "      <td>0</td>\n",
              "      <td>https://twitter.com/MoHFW_INDIA/status/1350459...</td>\n",
              "      <td>NaN</td>\n",
              "    </tr>\n",
              "    <tr>\n",
              "      <th>1</th>\n",
              "      <td>India</td>\n",
              "      <td>2021-01-16</td>\n",
              "      <td>Covaxin, Oxford/AstraZeneca</td>\n",
              "      <td>191181</td>\n",
              "      <td>191181</td>\n",
              "      <td>0</td>\n",
              "      <td>https://twitter.com/MoHFW_INDIA/status/1350459...</td>\n",
              "      <td>NaN</td>\n",
              "    </tr>\n",
              "    <tr>\n",
              "      <th>2</th>\n",
              "      <td>India</td>\n",
              "      <td>2021-01-17</td>\n",
              "      <td>Covaxin, Oxford/AstraZeneca</td>\n",
              "      <td>224301</td>\n",
              "      <td>224301</td>\n",
              "      <td>0</td>\n",
              "      <td>https://twitter.com/MoHFW_INDIA/status/1350815...</td>\n",
              "      <td>NaN</td>\n",
              "    </tr>\n",
              "    <tr>\n",
              "      <th>3</th>\n",
              "      <td>India</td>\n",
              "      <td>2021-01-18</td>\n",
              "      <td>Covaxin, Oxford/AstraZeneca</td>\n",
              "      <td>454049</td>\n",
              "      <td>454049</td>\n",
              "      <td>0</td>\n",
              "      <td>https://www.mohfw.gov.in/</td>\n",
              "      <td>NaN</td>\n",
              "    </tr>\n",
              "    <tr>\n",
              "      <th>4</th>\n",
              "      <td>India</td>\n",
              "      <td>2021-01-19</td>\n",
              "      <td>Covaxin, Oxford/AstraZeneca</td>\n",
              "      <td>674835</td>\n",
              "      <td>674835</td>\n",
              "      <td>0</td>\n",
              "      <td>https://www.mohfw.gov.in/</td>\n",
              "      <td>NaN</td>\n",
              "    </tr>\n",
              "    <tr>\n",
              "      <th>...</th>\n",
              "      <td>...</td>\n",
              "      <td>...</td>\n",
              "      <td>...</td>\n",
              "      <td>...</td>\n",
              "      <td>...</td>\n",
              "      <td>...</td>\n",
              "      <td>...</td>\n",
              "      <td>...</td>\n",
              "    </tr>\n",
              "    <tr>\n",
              "      <th>278</th>\n",
              "      <td>India</td>\n",
              "      <td>2021-10-31</td>\n",
              "      <td>Covaxin, Oxford/AstraZeneca, Sputnik V</td>\n",
              "      <td>1062631351</td>\n",
              "      <td>733542729</td>\n",
              "      <td>329088622</td>\n",
              "      <td>https://dashboard.cowin.gov.in/</td>\n",
              "      <td>NaN</td>\n",
              "    </tr>\n",
              "    <tr>\n",
              "      <th>279</th>\n",
              "      <td>India</td>\n",
              "      <td>2021-11-01</td>\n",
              "      <td>Covaxin, Oxford/AstraZeneca, Sputnik V</td>\n",
              "      <td>1067654329</td>\n",
              "      <td>735580368</td>\n",
              "      <td>332073961</td>\n",
              "      <td>https://dashboard.cowin.gov.in/</td>\n",
              "      <td>NaN</td>\n",
              "    </tr>\n",
              "    <tr>\n",
              "      <th>280</th>\n",
              "      <td>India</td>\n",
              "      <td>2021-11-02</td>\n",
              "      <td>Covaxin, Oxford/AstraZeneca, Sputnik V</td>\n",
              "      <td>1069718646</td>\n",
              "      <td>736446575</td>\n",
              "      <td>333272071</td>\n",
              "      <td>https://dashboard.cowin.gov.in/</td>\n",
              "      <td>NaN</td>\n",
              "    </tr>\n",
              "    <tr>\n",
              "      <th>281</th>\n",
              "      <td>India</td>\n",
              "      <td>2021-11-03</td>\n",
              "      <td>Covaxin, Oxford/AstraZeneca, Sputnik V</td>\n",
              "      <td>1075059421</td>\n",
              "      <td>738501950</td>\n",
              "      <td>336557471</td>\n",
              "      <td>https://dashboard.cowin.gov.in/</td>\n",
              "      <td>NaN</td>\n",
              "    </tr>\n",
              "    <tr>\n",
              "      <th>282</th>\n",
              "      <td>India</td>\n",
              "      <td>2021-11-04</td>\n",
              "      <td>Covaxin, Oxford/AstraZeneca, Sputnik V</td>\n",
              "      <td>1077107323</td>\n",
              "      <td>739357801</td>\n",
              "      <td>337749522</td>\n",
              "      <td>https://dashboard.cowin.gov.in/</td>\n",
              "      <td>NaN</td>\n",
              "    </tr>\n",
              "  </tbody>\n",
              "</table>\n",
              "<p>283 rows × 8 columns</p>\n",
              "</div>"
            ],
            "text/plain": [
              "    location  ... total_boosters\n",
              "0      India  ...            NaN\n",
              "1      India  ...            NaN\n",
              "2      India  ...            NaN\n",
              "3      India  ...            NaN\n",
              "4      India  ...            NaN\n",
              "..       ...  ...            ...\n",
              "278    India  ...            NaN\n",
              "279    India  ...            NaN\n",
              "280    India  ...            NaN\n",
              "281    India  ...            NaN\n",
              "282    India  ...            NaN\n",
              "\n",
              "[283 rows x 8 columns]"
            ]
          },
          "metadata": {},
          "execution_count": 45
        }
      ]
    },
    {
      "cell_type": "markdown",
      "metadata": {
        "id": "GqZQLya3aOrM"
      },
      "source": [
        "#Removed the source_url column from the dataframe as it just stores the same  links to destination."
      ]
    },
    {
      "cell_type": "code",
      "metadata": {
        "id": "ix-MXsc8m9ix"
      },
      "source": [
        "df.drop('source_url', axis=1, inplace=True)\n",
        "\n",
        "\n"
      ],
      "execution_count": 46,
      "outputs": []
    },
    {
      "cell_type": "code",
      "metadata": {
        "colab": {
          "base_uri": "https://localhost:8080/"
        },
        "id": "wZza8Y1TvU7p",
        "outputId": "c424b112-1ff8-45c1-eb06-8e5dece79103"
      },
      "source": [
        "df.columns\n"
      ],
      "execution_count": 47,
      "outputs": [
        {
          "output_type": "execute_result",
          "data": {
            "text/plain": [
              "Index(['location', 'date', 'vaccine', 'total_vaccinations',\n",
              "       'people_vaccinated', 'people_fully_vaccinated', 'total_boosters'],\n",
              "      dtype='object')"
            ]
          },
          "metadata": {},
          "execution_count": 47
        }
      ]
    },
    {
      "cell_type": "markdown",
      "metadata": {
        "id": "4EOWb26caZph"
      },
      "source": [
        "#Replacing the NaN values to 0"
      ]
    },
    {
      "cell_type": "code",
      "metadata": {
        "id": "wrTg4vcqvujR"
      },
      "source": [
        "df[\"total_boosters\"].fillna(\"0\", inplace = True)"
      ],
      "execution_count": 48,
      "outputs": []
    },
    {
      "cell_type": "code",
      "metadata": {
        "id": "txfaeFROZXoL",
        "colab": {
          "base_uri": "https://localhost:8080/",
          "height": 674
        },
        "outputId": "20fe2f98-c956-4ed0-8ffe-939bf44bf892"
      },
      "source": [
        "df"
      ],
      "execution_count": 49,
      "outputs": [
        {
          "output_type": "execute_result",
          "data": {
            "text/html": [
              "<div>\n",
              "<style scoped>\n",
              "    .dataframe tbody tr th:only-of-type {\n",
              "        vertical-align: middle;\n",
              "    }\n",
              "\n",
              "    .dataframe tbody tr th {\n",
              "        vertical-align: top;\n",
              "    }\n",
              "\n",
              "    .dataframe thead th {\n",
              "        text-align: right;\n",
              "    }\n",
              "</style>\n",
              "<table border=\"1\" class=\"dataframe\">\n",
              "  <thead>\n",
              "    <tr style=\"text-align: right;\">\n",
              "      <th></th>\n",
              "      <th>location</th>\n",
              "      <th>date</th>\n",
              "      <th>vaccine</th>\n",
              "      <th>total_vaccinations</th>\n",
              "      <th>people_vaccinated</th>\n",
              "      <th>people_fully_vaccinated</th>\n",
              "      <th>total_boosters</th>\n",
              "    </tr>\n",
              "  </thead>\n",
              "  <tbody>\n",
              "    <tr>\n",
              "      <th>0</th>\n",
              "      <td>India</td>\n",
              "      <td>2021-01-15</td>\n",
              "      <td>Covaxin, Oxford/AstraZeneca</td>\n",
              "      <td>0</td>\n",
              "      <td>0</td>\n",
              "      <td>0</td>\n",
              "      <td>0</td>\n",
              "    </tr>\n",
              "    <tr>\n",
              "      <th>1</th>\n",
              "      <td>India</td>\n",
              "      <td>2021-01-16</td>\n",
              "      <td>Covaxin, Oxford/AstraZeneca</td>\n",
              "      <td>191181</td>\n",
              "      <td>191181</td>\n",
              "      <td>0</td>\n",
              "      <td>0</td>\n",
              "    </tr>\n",
              "    <tr>\n",
              "      <th>2</th>\n",
              "      <td>India</td>\n",
              "      <td>2021-01-17</td>\n",
              "      <td>Covaxin, Oxford/AstraZeneca</td>\n",
              "      <td>224301</td>\n",
              "      <td>224301</td>\n",
              "      <td>0</td>\n",
              "      <td>0</td>\n",
              "    </tr>\n",
              "    <tr>\n",
              "      <th>3</th>\n",
              "      <td>India</td>\n",
              "      <td>2021-01-18</td>\n",
              "      <td>Covaxin, Oxford/AstraZeneca</td>\n",
              "      <td>454049</td>\n",
              "      <td>454049</td>\n",
              "      <td>0</td>\n",
              "      <td>0</td>\n",
              "    </tr>\n",
              "    <tr>\n",
              "      <th>4</th>\n",
              "      <td>India</td>\n",
              "      <td>2021-01-19</td>\n",
              "      <td>Covaxin, Oxford/AstraZeneca</td>\n",
              "      <td>674835</td>\n",
              "      <td>674835</td>\n",
              "      <td>0</td>\n",
              "      <td>0</td>\n",
              "    </tr>\n",
              "    <tr>\n",
              "      <th>...</th>\n",
              "      <td>...</td>\n",
              "      <td>...</td>\n",
              "      <td>...</td>\n",
              "      <td>...</td>\n",
              "      <td>...</td>\n",
              "      <td>...</td>\n",
              "      <td>...</td>\n",
              "    </tr>\n",
              "    <tr>\n",
              "      <th>278</th>\n",
              "      <td>India</td>\n",
              "      <td>2021-10-31</td>\n",
              "      <td>Covaxin, Oxford/AstraZeneca, Sputnik V</td>\n",
              "      <td>1062631351</td>\n",
              "      <td>733542729</td>\n",
              "      <td>329088622</td>\n",
              "      <td>0</td>\n",
              "    </tr>\n",
              "    <tr>\n",
              "      <th>279</th>\n",
              "      <td>India</td>\n",
              "      <td>2021-11-01</td>\n",
              "      <td>Covaxin, Oxford/AstraZeneca, Sputnik V</td>\n",
              "      <td>1067654329</td>\n",
              "      <td>735580368</td>\n",
              "      <td>332073961</td>\n",
              "      <td>0</td>\n",
              "    </tr>\n",
              "    <tr>\n",
              "      <th>280</th>\n",
              "      <td>India</td>\n",
              "      <td>2021-11-02</td>\n",
              "      <td>Covaxin, Oxford/AstraZeneca, Sputnik V</td>\n",
              "      <td>1069718646</td>\n",
              "      <td>736446575</td>\n",
              "      <td>333272071</td>\n",
              "      <td>0</td>\n",
              "    </tr>\n",
              "    <tr>\n",
              "      <th>281</th>\n",
              "      <td>India</td>\n",
              "      <td>2021-11-03</td>\n",
              "      <td>Covaxin, Oxford/AstraZeneca, Sputnik V</td>\n",
              "      <td>1075059421</td>\n",
              "      <td>738501950</td>\n",
              "      <td>336557471</td>\n",
              "      <td>0</td>\n",
              "    </tr>\n",
              "    <tr>\n",
              "      <th>282</th>\n",
              "      <td>India</td>\n",
              "      <td>2021-11-04</td>\n",
              "      <td>Covaxin, Oxford/AstraZeneca, Sputnik V</td>\n",
              "      <td>1077107323</td>\n",
              "      <td>739357801</td>\n",
              "      <td>337749522</td>\n",
              "      <td>0</td>\n",
              "    </tr>\n",
              "  </tbody>\n",
              "</table>\n",
              "<p>283 rows × 7 columns</p>\n",
              "</div>"
            ],
            "text/plain": [
              "    location        date  ... people_fully_vaccinated  total_boosters\n",
              "0      India  2021-01-15  ...                       0               0\n",
              "1      India  2021-01-16  ...                       0               0\n",
              "2      India  2021-01-17  ...                       0               0\n",
              "3      India  2021-01-18  ...                       0               0\n",
              "4      India  2021-01-19  ...                       0               0\n",
              "..       ...         ...  ...                     ...             ...\n",
              "278    India  2021-10-31  ...               329088622               0\n",
              "279    India  2021-11-01  ...               332073961               0\n",
              "280    India  2021-11-02  ...               333272071               0\n",
              "281    India  2021-11-03  ...               336557471               0\n",
              "282    India  2021-11-04  ...               337749522               0\n",
              "\n",
              "[283 rows x 7 columns]"
            ]
          },
          "metadata": {},
          "execution_count": 49
        }
      ]
    },
    {
      "cell_type": "code",
      "metadata": {
        "colab": {
          "base_uri": "https://localhost:8080/",
          "height": 294
        },
        "id": "Qkzh3IgPwjZW",
        "outputId": "87d94537-7734-44e0-a5be-e63865f07464"
      },
      "source": [
        "df.boxplot(column=['total_vaccinations'])"
      ],
      "execution_count": 50,
      "outputs": [
        {
          "output_type": "execute_result",
          "data": {
            "text/plain": [
              "<matplotlib.axes._subplots.AxesSubplot at 0x7f843b4e4510>"
            ]
          },
          "metadata": {},
          "execution_count": 50
        },
        {
          "output_type": "display_data",
          "data": {
            "image/png": "[encoded data removed]",
            "text/plain": [
              "<Figure size 432x288 with 1 Axes>"
            ]
          },
          "metadata": {
            "needs_background": "light"
          }
        }
      ]
    },
    {
      "cell_type": "code",
      "metadata": {
        "id": "ASSxEpG1wylx"
      },
      "source": [
        "df=pd.read_csv('/content/gdrive/MyDrive/Colab Notebooks/data/US.csv')"
      ],
      "execution_count": 51,
      "outputs": []
    },
    {
      "cell_type": "code",
      "metadata": {
        "colab": {
          "base_uri": "https://localhost:8080/",
          "height": 694
        },
        "id": "cSS6r15Nw5si",
        "outputId": "e27add70-fffb-4de4-8607-d5081bfd616b"
      },
      "source": [
        "df\n"
      ],
      "execution_count": 52,
      "outputs": [
        {
          "output_type": "execute_result",
          "data": {
            "text/html": [
              "<div>\n",
              "<style scoped>\n",
              "    .dataframe tbody tr th:only-of-type {\n",
              "        vertical-align: middle;\n",
              "    }\n",
              "\n",
              "    .dataframe tbody tr th {\n",
              "        vertical-align: top;\n",
              "    }\n",
              "\n",
              "    .dataframe thead th {\n",
              "        text-align: right;\n",
              "    }\n",
              "</style>\n",
              "<table border=\"1\" class=\"dataframe\">\n",
              "  <thead>\n",
              "    <tr style=\"text-align: right;\">\n",
              "      <th></th>\n",
              "      <th>date</th>\n",
              "      <th>location</th>\n",
              "      <th>total_vaccinations</th>\n",
              "      <th>people_vaccinated</th>\n",
              "      <th>people_fully_vaccinated</th>\n",
              "      <th>total_boosters</th>\n",
              "      <th>source_url</th>\n",
              "      <th>vaccine</th>\n",
              "    </tr>\n",
              "  </thead>\n",
              "  <tbody>\n",
              "    <tr>\n",
              "      <th>0</th>\n",
              "      <td>2020-12-13</td>\n",
              "      <td>United States</td>\n",
              "      <td>20013</td>\n",
              "      <td>17073</td>\n",
              "      <td>3579</td>\n",
              "      <td>0</td>\n",
              "      <td>https://covid.cdc.gov/covid-data-tracker/#vacc...</td>\n",
              "      <td>Pfizer/BioNTech</td>\n",
              "    </tr>\n",
              "    <tr>\n",
              "      <th>1</th>\n",
              "      <td>2020-12-14</td>\n",
              "      <td>United States</td>\n",
              "      <td>24300</td>\n",
              "      <td>21231</td>\n",
              "      <td>3668</td>\n",
              "      <td>0</td>\n",
              "      <td>https://covid.cdc.gov/covid-data-tracker/#vacc...</td>\n",
              "      <td>Pfizer/BioNTech</td>\n",
              "    </tr>\n",
              "    <tr>\n",
              "      <th>2</th>\n",
              "      <td>2020-12-15</td>\n",
              "      <td>United States</td>\n",
              "      <td>72853</td>\n",
              "      <td>67597</td>\n",
              "      <td>3851</td>\n",
              "      <td>0</td>\n",
              "      <td>https://covid.cdc.gov/covid-data-tracker/#vacc...</td>\n",
              "      <td>Pfizer/BioNTech</td>\n",
              "    </tr>\n",
              "    <tr>\n",
              "      <th>3</th>\n",
              "      <td>2020-12-16</td>\n",
              "      <td>United States</td>\n",
              "      <td>231420</td>\n",
              "      <td>220759</td>\n",
              "      <td>4214</td>\n",
              "      <td>0</td>\n",
              "      <td>https://covid.cdc.gov/covid-data-tracker/#vacc...</td>\n",
              "      <td>Pfizer/BioNTech</td>\n",
              "    </tr>\n",
              "    <tr>\n",
              "      <th>4</th>\n",
              "      <td>2020-12-17</td>\n",
              "      <td>United States</td>\n",
              "      <td>501644</td>\n",
              "      <td>484011</td>\n",
              "      <td>4743</td>\n",
              "      <td>0</td>\n",
              "      <td>https://covid.cdc.gov/covid-data-tracker/#vacc...</td>\n",
              "      <td>Pfizer/BioNTech</td>\n",
              "    </tr>\n",
              "    <tr>\n",
              "      <th>...</th>\n",
              "      <td>...</td>\n",
              "      <td>...</td>\n",
              "      <td>...</td>\n",
              "      <td>...</td>\n",
              "      <td>...</td>\n",
              "      <td>...</td>\n",
              "      <td>...</td>\n",
              "      <td>...</td>\n",
              "    </tr>\n",
              "    <tr>\n",
              "      <th>322</th>\n",
              "      <td>2021-10-31</td>\n",
              "      <td>United States</td>\n",
              "      <td>424776573</td>\n",
              "      <td>222159807</td>\n",
              "      <td>191564086</td>\n",
              "      <td>20156138</td>\n",
              "      <td>https://covid.cdc.gov/covid-data-tracker/#vacc...</td>\n",
              "      <td>Johnson&amp;Johnson, Moderna, Pfizer/BioNTech</td>\n",
              "    </tr>\n",
              "    <tr>\n",
              "      <th>323</th>\n",
              "      <td>2021-11-01</td>\n",
              "      <td>United States</td>\n",
              "      <td>425906647</td>\n",
              "      <td>222414631</td>\n",
              "      <td>191718288</td>\n",
              "      <td>20891038</td>\n",
              "      <td>https://covid.cdc.gov/covid-data-tracker/#vacc...</td>\n",
              "      <td>Johnson&amp;Johnson, Moderna, Pfizer/BioNTech</td>\n",
              "    </tr>\n",
              "    <tr>\n",
              "      <th>324</th>\n",
              "      <td>2021-11-02</td>\n",
              "      <td>United States</td>\n",
              "      <td>426631679</td>\n",
              "      <td>222565598</td>\n",
              "      <td>191809625</td>\n",
              "      <td>21384385</td>\n",
              "      <td>https://covid.cdc.gov/covid-data-tracker/#vacc...</td>\n",
              "      <td>Johnson&amp;Johnson, Moderna, Pfizer/BioNTech</td>\n",
              "    </tr>\n",
              "    <tr>\n",
              "      <th>325</th>\n",
              "      <td>2021-11-03</td>\n",
              "      <td>United States</td>\n",
              "      <td>426728092</td>\n",
              "      <td>222591394</td>\n",
              "      <td>191823814</td>\n",
              "      <td>21441707</td>\n",
              "      <td>https://covid.cdc.gov/covid-data-tracker/#vacc...</td>\n",
              "      <td>Johnson&amp;Johnson, Moderna, Pfizer/BioNTech</td>\n",
              "    </tr>\n",
              "    <tr>\n",
              "      <th>326</th>\n",
              "      <td>2021-11-04</td>\n",
              "      <td>United States</td>\n",
              "      <td>426728092</td>\n",
              "      <td>222591394</td>\n",
              "      <td>191823814</td>\n",
              "      <td>21441707</td>\n",
              "      <td>https://covid.cdc.gov/covid-data-tracker/#vacc...</td>\n",
              "      <td>Johnson&amp;Johnson, Moderna, Pfizer/BioNTech</td>\n",
              "    </tr>\n",
              "  </tbody>\n",
              "</table>\n",
              "<p>327 rows × 8 columns</p>\n",
              "</div>"
            ],
            "text/plain": [
              "           date  ...                                    vaccine\n",
              "0    2020-12-13  ...                            Pfizer/BioNTech\n",
              "1    2020-12-14  ...                            Pfizer/BioNTech\n",
              "2    2020-12-15  ...                            Pfizer/BioNTech\n",
              "3    2020-12-16  ...                            Pfizer/BioNTech\n",
              "4    2020-12-17  ...                            Pfizer/BioNTech\n",
              "..          ...  ...                                        ...\n",
              "322  2021-10-31  ...  Johnson&Johnson, Moderna, Pfizer/BioNTech\n",
              "323  2021-11-01  ...  Johnson&Johnson, Moderna, Pfizer/BioNTech\n",
              "324  2021-11-02  ...  Johnson&Johnson, Moderna, Pfizer/BioNTech\n",
              "325  2021-11-03  ...  Johnson&Johnson, Moderna, Pfizer/BioNTech\n",
              "326  2021-11-04  ...  Johnson&Johnson, Moderna, Pfizer/BioNTech\n",
              "\n",
              "[327 rows x 8 columns]"
            ]
          },
          "metadata": {},
          "execution_count": 52
        }
      ]
    },
    {
      "cell_type": "markdown",
      "metadata": {
        "id": "hEilRwzIZwKS"
      },
      "source": [
        "#Removed the source_url column from the dataframe as it just stores the same links to destination."
      ]
    },
    {
      "cell_type": "code",
      "metadata": {
        "id": "bqJJfdI4xD3J"
      },
      "source": [
        "df.drop('source_url', axis=1, inplace=True)"
      ],
      "execution_count": 53,
      "outputs": []
    },
    {
      "cell_type": "code",
      "metadata": {
        "colab": {
          "base_uri": "https://localhost:8080/"
        },
        "id": "vaMW3qKtXTrk",
        "outputId": "b005bae3-dd6f-49f8-e840-fee944d5812a"
      },
      "source": [
        "df.columns"
      ],
      "execution_count": 54,
      "outputs": [
        {
          "output_type": "execute_result",
          "data": {
            "text/plain": [
              "Index(['date', 'location', 'total_vaccinations', 'people_vaccinated',\n",
              "       'people_fully_vaccinated', 'total_boosters', 'vaccine'],\n",
              "      dtype='object')"
            ]
          },
          "metadata": {},
          "execution_count": 54
        }
      ]
    },
    {
      "cell_type": "code",
      "metadata": {
        "colab": {
          "base_uri": "https://localhost:8080/",
          "height": 294
        },
        "id": "KCt6LdtUxIOh",
        "outputId": "76c5cecd-0754-4c16-aea5-a82e256acc3d"
      },
      "source": [
        "df.boxplot(column=['total_vaccinations'])"
      ],
      "execution_count": 55,
      "outputs": [
        {
          "output_type": "execute_result",
          "data": {
            "text/plain": [
              "<matplotlib.axes._subplots.AxesSubplot at 0x7f843b462450>"
            ]
          },
          "metadata": {},
          "execution_count": 55
        },
        {
          "output_type": "display_data",
          "data": {
            "image/png": "[encoded data removed]",
            "text/plain": [
              "<Figure size 432x288 with 1 Axes>"
            ]
          },
          "metadata": {
            "needs_background": "light"
          }
        }
      ]
    }
  ]
}